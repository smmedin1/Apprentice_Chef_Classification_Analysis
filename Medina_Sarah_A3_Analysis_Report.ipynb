{
 "cells": [
  {
   "cell_type": "markdown",
   "metadata": {},
   "source": [
    "#  Report to Management for Apprentice Chef\n",
    "By Sarah Medina"
   ]
  },
  {
   "cell_type": "markdown",
   "metadata": {},
   "source": [
    "# Analysis"
   ]
  },
  {
   "cell_type": "markdown",
   "metadata": {},
   "source": [
    "Today we will be looking at insights based on Revenue (Regression modeling) and Cross Sell Success (Classification Modeling) that have potential to drive growth and success for Apprentice Chef. \n",
    "\n",
    "While analyzing revenue, I found that the best result accounted for 77.7% of variance (R Squared) when using the full OLS model (Appendix 2). When compared to revenue, Median Meal rating, Average prep video time, and total meals ordered were most highly correlated (Appendix 1) and represent opportunistic funnels in pushing for revenue increase. The company should focus on creating meals that are consistently popular among their customers matched with videos that are intuitively enjoyable. Encouraging clients to buy more meals could come from Apprentice Chef’s system, creating tailored suggestions based on a customers previous actions such as remembering  previously ordered meals, highest rated meals or offering  recommended dishes. \n",
    "\n",
    "When looking at Cross Sell Promotion, the full Gbm model (Appendix 3)  gave the best result, with an AUC of .734 and least amount of false negatives (Appendix 5). The features of most importance (Appendix 4) were Cancellations before noon, Early Deliveries, and Number of Names. Demographic or personal information should be looked into to find more insight about the customer. This was done by creating the number of names variable which helped differentiate one customer  (i.e. \"Aegon\") from another to look at who opted in to the cross selling promotion as well as prevent mass grouping of client stigmas. \n",
    "\n",
    "What I observed is that timely customers who pay attention to detail are more likely to commit. The company must be prompt in their actions (deliver on time) as well as the client (cancel on time) and in doing so this will help promote cross selling. Cross selling promotion success will come if Chef Apprentice  continues to value each unique customer and be punctual in their actions.\n"
   ]
  },
  {
   "cell_type": "code",
   "execution_count": 1,
   "metadata": {
    "code_folding": [
     0
    ]
   },
   "outputs": [
    {
     "data": {
      "text/html": [
       "<div>\n",
       "<style scoped>\n",
       "    .dataframe tbody tr th:only-of-type {\n",
       "        vertical-align: middle;\n",
       "    }\n",
       "\n",
       "    .dataframe tbody tr th {\n",
       "        vertical-align: top;\n",
       "    }\n",
       "\n",
       "    .dataframe thead th {\n",
       "        text-align: right;\n",
       "    }\n",
       "</style>\n",
       "<table border=\"1\" class=\"dataframe\">\n",
       "  <thead>\n",
       "    <tr style=\"text-align: right;\">\n",
       "      <th></th>\n",
       "      <th>REVENUE</th>\n",
       "      <th>CROSS_SELL_SUCCESS</th>\n",
       "      <th>NAME</th>\n",
       "      <th>EMAIL</th>\n",
       "      <th>FIRST_NAME</th>\n",
       "      <th>FAMILY_NAME</th>\n",
       "      <th>TOTAL_MEALS_ORDERED</th>\n",
       "      <th>UNIQUE_MEALS_PURCH</th>\n",
       "      <th>CONTACTS_W_CUSTOMER_SERVICE</th>\n",
       "      <th>PRODUCT_CATEGORIES_VIEWED</th>\n",
       "      <th>AVG_TIME_PER_SITE_VISIT</th>\n",
       "      <th>MOBILE_NUMBER</th>\n",
       "      <th>CANCELLATIONS_BEFORE_NOON</th>\n",
       "      <th>CANCELLATIONS_AFTER_NOON</th>\n",
       "      <th>TASTES_AND_PREFERENCES</th>\n",
       "      <th>PC_LOGINS</th>\n",
       "      <th>MOBILE_LOGINS</th>\n",
       "      <th>WEEKLY_PLAN</th>\n",
       "      <th>EARLY_DELIVERIES</th>\n",
       "      <th>LATE_DELIVERIES</th>\n",
       "      <th>PACKAGE_LOCKER</th>\n",
       "      <th>REFRIGERATED_LOCKER</th>\n",
       "      <th>AVG_PREP_VID_TIME</th>\n",
       "      <th>LARGEST_ORDER_SIZE</th>\n",
       "      <th>MASTER_CLASSES_ATTENDED</th>\n",
       "      <th>MEDIAN_MEAL_RATING</th>\n",
       "      <th>AVG_CLICKS_PER_VISIT</th>\n",
       "      <th>TOTAL_PHOTOS_VIEWED</th>\n",
       "    </tr>\n",
       "  </thead>\n",
       "  <tbody>\n",
       "    <tr>\n",
       "      <th>0</th>\n",
       "      <td>393.0</td>\n",
       "      <td>1</td>\n",
       "      <td>Saathos</td>\n",
       "      <td>saathos@unitedhealth.com</td>\n",
       "      <td>Saathos</td>\n",
       "      <td>Saathos</td>\n",
       "      <td>14</td>\n",
       "      <td>6</td>\n",
       "      <td>12</td>\n",
       "      <td>10</td>\n",
       "      <td>48.00</td>\n",
       "      <td>1</td>\n",
       "      <td>3</td>\n",
       "      <td>1</td>\n",
       "      <td>1</td>\n",
       "      <td>5</td>\n",
       "      <td>2</td>\n",
       "      <td>0</td>\n",
       "      <td>0</td>\n",
       "      <td>2</td>\n",
       "      <td>0</td>\n",
       "      <td>0</td>\n",
       "      <td>33.4</td>\n",
       "      <td>1</td>\n",
       "      <td>0</td>\n",
       "      <td>1</td>\n",
       "      <td>17</td>\n",
       "      <td>0</td>\n",
       "    </tr>\n",
       "    <tr>\n",
       "      <th>1</th>\n",
       "      <td>1365.0</td>\n",
       "      <td>1</td>\n",
       "      <td>Alysanne Osgrey</td>\n",
       "      <td>alysanne.osgrey@ge.org</td>\n",
       "      <td>Alysanne</td>\n",
       "      <td>Osgrey</td>\n",
       "      <td>87</td>\n",
       "      <td>3</td>\n",
       "      <td>8</td>\n",
       "      <td>8</td>\n",
       "      <td>40.35</td>\n",
       "      <td>1</td>\n",
       "      <td>0</td>\n",
       "      <td>0</td>\n",
       "      <td>1</td>\n",
       "      <td>5</td>\n",
       "      <td>1</td>\n",
       "      <td>12</td>\n",
       "      <td>0</td>\n",
       "      <td>2</td>\n",
       "      <td>0</td>\n",
       "      <td>0</td>\n",
       "      <td>84.8</td>\n",
       "      <td>1</td>\n",
       "      <td>0</td>\n",
       "      <td>3</td>\n",
       "      <td>13</td>\n",
       "      <td>170</td>\n",
       "    </tr>\n",
       "    <tr>\n",
       "      <th>2</th>\n",
       "      <td>800.0</td>\n",
       "      <td>1</td>\n",
       "      <td>Edwyd Fossoway</td>\n",
       "      <td>edwyd.fossoway@jnj.com</td>\n",
       "      <td>Edwyd</td>\n",
       "      <td>Fossoway</td>\n",
       "      <td>15</td>\n",
       "      <td>7</td>\n",
       "      <td>11</td>\n",
       "      <td>5</td>\n",
       "      <td>19.77</td>\n",
       "      <td>1</td>\n",
       "      <td>3</td>\n",
       "      <td>0</td>\n",
       "      <td>1</td>\n",
       "      <td>6</td>\n",
       "      <td>1</td>\n",
       "      <td>1</td>\n",
       "      <td>0</td>\n",
       "      <td>1</td>\n",
       "      <td>0</td>\n",
       "      <td>0</td>\n",
       "      <td>63.0</td>\n",
       "      <td>1</td>\n",
       "      <td>0</td>\n",
       "      <td>2</td>\n",
       "      <td>16</td>\n",
       "      <td>0</td>\n",
       "    </tr>\n",
       "    <tr>\n",
       "      <th>3</th>\n",
       "      <td>600.0</td>\n",
       "      <td>1</td>\n",
       "      <td>Eleyna Westerling</td>\n",
       "      <td>eleyna.westerling@ge.org</td>\n",
       "      <td>Eleyna</td>\n",
       "      <td>Westerling</td>\n",
       "      <td>13</td>\n",
       "      <td>6</td>\n",
       "      <td>11</td>\n",
       "      <td>5</td>\n",
       "      <td>90.00</td>\n",
       "      <td>1</td>\n",
       "      <td>2</td>\n",
       "      <td>0</td>\n",
       "      <td>1</td>\n",
       "      <td>6</td>\n",
       "      <td>1</td>\n",
       "      <td>14</td>\n",
       "      <td>0</td>\n",
       "      <td>3</td>\n",
       "      <td>0</td>\n",
       "      <td>0</td>\n",
       "      <td>43.8</td>\n",
       "      <td>1</td>\n",
       "      <td>0</td>\n",
       "      <td>2</td>\n",
       "      <td>14</td>\n",
       "      <td>0</td>\n",
       "    </tr>\n",
       "    <tr>\n",
       "      <th>4</th>\n",
       "      <td>1490.0</td>\n",
       "      <td>1</td>\n",
       "      <td>Elyn Norridge</td>\n",
       "      <td>elyn.norridge@jnj.com</td>\n",
       "      <td>Elyn</td>\n",
       "      <td>Norridge</td>\n",
       "      <td>47</td>\n",
       "      <td>8</td>\n",
       "      <td>6</td>\n",
       "      <td>10</td>\n",
       "      <td>40.38</td>\n",
       "      <td>1</td>\n",
       "      <td>0</td>\n",
       "      <td>0</td>\n",
       "      <td>0</td>\n",
       "      <td>5</td>\n",
       "      <td>1</td>\n",
       "      <td>5</td>\n",
       "      <td>0</td>\n",
       "      <td>8</td>\n",
       "      <td>0</td>\n",
       "      <td>0</td>\n",
       "      <td>84.8</td>\n",
       "      <td>1</td>\n",
       "      <td>1</td>\n",
       "      <td>3</td>\n",
       "      <td>12</td>\n",
       "      <td>205</td>\n",
       "    </tr>\n",
       "  </tbody>\n",
       "</table>\n",
       "</div>"
      ],
      "text/plain": [
       "   REVENUE  CROSS_SELL_SUCCESS               NAME                     EMAIL FIRST_NAME FAMILY_NAME  TOTAL_MEALS_ORDERED  UNIQUE_MEALS_PURCH  CONTACTS_W_CUSTOMER_SERVICE  PRODUCT_CATEGORIES_VIEWED  AVG_TIME_PER_SITE_VISIT  MOBILE_NUMBER  CANCELLATIONS_BEFORE_NOON  CANCELLATIONS_AFTER_NOON  TASTES_AND_PREFERENCES  PC_LOGINS  MOBILE_LOGINS  WEEKLY_PLAN  EARLY_DELIVERIES  LATE_DELIVERIES  PACKAGE_LOCKER  REFRIGERATED_LOCKER  AVG_PREP_VID_TIME  LARGEST_ORDER_SIZE  MASTER_CLASSES_ATTENDED  MEDIAN_MEAL_RATING  AVG_CLICKS_PER_VISIT  TOTAL_PHOTOS_VIEWED\n",
       "0    393.0                   1            Saathos  saathos@unitedhealth.com    Saathos     Saathos                   14                   6                           12                         10                    48.00              1                          3                         1                       1          5              2            0                 0                2               0                    0               33.4                   1                        0                   1                    17                    0\n",
       "1   1365.0                   1    Alysanne Osgrey    alysanne.osgrey@ge.org   Alysanne      Osgrey                   87                   3                            8                          8                    40.35              1                          0                         0                       1          5              1           12                 0                2               0                    0               84.8                   1                        0                   3                    13                  170\n",
       "2    800.0                   1     Edwyd Fossoway    edwyd.fossoway@jnj.com      Edwyd    Fossoway                   15                   7                           11                          5                    19.77              1                          3                         0                       1          6              1            1                 0                1               0                    0               63.0                   1                        0                   2                    16                    0\n",
       "3    600.0                   1  Eleyna Westerling  eleyna.westerling@ge.org     Eleyna  Westerling                   13                   6                           11                          5                    90.00              1                          2                         0                       1          6              1           14                 0                3               0                    0               43.8                   1                        0                   2                    14                    0\n",
       "4   1490.0                   1      Elyn Norridge     elyn.norridge@jnj.com       Elyn    Norridge                   47                   8                            6                         10                    40.38              1                          0                         0                       0          5              1            5                 0                8               0                    0               84.8                   1                        1                   3                    12                  205"
      ]
     },
     "execution_count": 1,
     "metadata": {},
     "output_type": "execute_result"
    }
   ],
   "source": [
    "#importing libraries\n",
    "import numpy as np \n",
    "import pandas as pd\n",
    "import matplotlib.pyplot as plt\n",
    "import seaborn as sns\n",
    "import statsmodels.formula.api as smf\n",
    "import sklearn.linear_model # linear models\n",
    "\n",
    "#sklearn and train test split\n",
    "from sklearn.model_selection import train_test_split # train/test split\n",
    "#regressions\n",
    "from sklearn.linear_model import LinearRegression\n",
    "from sklearn.linear_model import LogisticRegression \n",
    "from sklearn.metrics import confusion_matrix          # confusion matrix\n",
    "from sklearn.metrics import roc_auc_score             # auc \n",
    "#Knn Neighbors\n",
    "from sklearn.neighbors import KNeighborsRegressor # KNN for Regression\n",
    "from sklearn.neighbors import KNeighborsClassifier    # KNN classification\n",
    "from sklearn.preprocessing import StandardScaler # standard scaler\n",
    "\n",
    "#import randomlibraries\n",
    "import random as rand  #rand\n",
    "import gender_guesser.detector as gender #gender guesser\n",
    "\n",
    "# CART model packages\n",
    "from sklearn.tree import DecisionTreeClassifier       # classification trees\n",
    "from sklearn.tree import export_graphviz              # exports graphviz\n",
    "from six import StringIO                              # saves objects in memory\n",
    "from IPython.display import Image                     # displays on frontend\n",
    "import pydotplus                                      # interprets dot objects\n",
    "\n",
    "#Packages for Classification Tree Modelling\n",
    "from sklearn.model_selection import RandomizedSearchCV  # hyperparameter tuning\n",
    "from sklearn.metrics import make_scorer                 # c scorer\n",
    "from sklearn.ensemble import RandomForestClassifier     # random for\n",
    "from sklearn.ensemble import GradientBoostingClassifier # gbm\n",
    "\n",
    "# setting pandas print options\n",
    "pd.set_option('display.max_rows', 500)\n",
    "pd.set_option('display.max_columns', 500)\n",
    "pd.set_option('display.width', 1000)\n",
    "\n",
    "\n",
    "# specifying file name\n",
    "file = 'Apprentice_Chef_Dataset.xlsx'\n",
    "\n",
    "# reading the file into Python\n",
    "chefset = pd.read_excel(io = file)\n",
    "\n",
    "\n",
    "#pd set option to see all the column names \n",
    "pd.set_option('display.max_columns', None)\n",
    "chefset.head()\n"
   ]
  },
  {
   "cell_type": "markdown",
   "metadata": {},
   "source": [
    "# User Defined Functions"
   ]
  },
  {
   "cell_type": "code",
   "execution_count": 2,
   "metadata": {
    "code_folding": [
     0
    ]
   },
   "outputs": [],
   "source": [
    "# text_split_feature\n",
    "#########################\n",
    "def text_split_feature(col, df, sep=' ', new_col_name='NUM_OF_NAMES'):\n",
    "    \"\"\"\n",
    "Splits values in a string Series (as part of a DataFrame) and sums the number\n",
    "of resulting items. Automatically appends summed column to original DataFrame.\n",
    "\n",
    "PARAMETERS\n",
    "----------\n",
    "col          : column to split\n",
    "df           : DataFrame where column is located\n",
    "sep          : string sequence to split by, default ' '\n",
    "new_col_name : name of new column after summing split, default\n",
    "               'number_of_names'\n",
    "\"\"\"\n",
    "    \n",
    "    df[new_col_name] = 0\n",
    "    \n",
    "    \n",
    "    for index, val in df.iterrows():\n",
    "        df.loc[index, new_col_name] = len(df.loc[index, col].split(sep = ' '))"
   ]
  },
  {
   "cell_type": "code",
   "execution_count": 3,
   "metadata": {
    "code_folding": [
     0
    ]
   },
   "outputs": [],
   "source": [
    "# mv_flagger\n",
    "#########################\n",
    "def mv_flagger(df):\n",
    "    \"\"\"\n",
    "Flags all columns that have missing values with 'm-COLUMN_NAME'.\n",
    "\n",
    "PARAMETERS\n",
    "----------\n",
    "df : DataFrame to flag missing values\n",
    "\n",
    "\n",
    "RETURNS\n",
    "-------\n",
    "DataFrame with missing value flags.\"\"\"\n",
    "\n",
    "\n",
    "    for col in df:\n",
    "\n",
    "        if df[col].isnull().astype(int).sum() > 0:\n",
    "            df['m_'+col] = df[col].isnull().astype(int)\n",
    "            \n",
    "    return df\n",
    "\n"
   ]
  },
  {
   "cell_type": "code",
   "execution_count": 4,
   "metadata": {
    "code_folding": [
     0
    ]
   },
   "outputs": [],
   "source": [
    "# optimal_neighbors\n",
    "########################################\n",
    "def optimal_neighbors(x_data,\n",
    "                      y_data,\n",
    "                      standardize = True,\n",
    "                      pct_test=0.25,\n",
    "                      seed=219,\n",
    "                      response_type='reg',\n",
    "                      max_neighbors=20,\n",
    "                      show_viz=True):\n",
    "    \"\"\"\n",
    "Exhaustively compute training and testing results for KNN across\n",
    "[1, max_neighbors]. Outputs the maximum test score and (by default) a\n",
    "visualization of the results.\n",
    "PARAMETERS\n",
    "----------\n",
    "X_data        : explanatory variable data\n",
    "y_data        : response variable\n",
    "standardize   : whether or not to standardize the X data, default True\n",
    "pct_test      : test size for training and validation from (0,1), default 0.25\n",
    "seed          : random seed to be used in algorithm, default 219\n",
    "response_type : type of neighbors algorithm to use, default 'reg'\n",
    "    Use 'reg' for regression (KNeighborsRegressor)\n",
    "    Use 'class' for classification (KNeighborsClassifier)\n",
    "max_neighbors : maximum number of neighbors in exhaustive search, default 20\n",
    "show_viz      : display or surpress k-neigbors visualization, default True\n",
    "\"\"\"    \n",
    "    \n",
    "    \n",
    "    if standardize == True:\n",
    "        # optionally standardizing X_data\n",
    "        scaler             = StandardScaler()\n",
    "        scaler.fit(x_data)\n",
    "        x_scaled           = scaler.transform(x_data)\n",
    "        x_scaled_df        = pd.DataFrame(x_scaled)\n",
    "        x_data             = x_scaled_df\n",
    "\n",
    "\n",
    "\n",
    "    # train-test split\n",
    "    x_train, x_test, y_train, y_test = train_test_split(x_data,\n",
    "                                                        y_data,\n",
    "                                                        test_size = pct_test,\n",
    "                                                        random_state = seed)\n",
    "\n",
    "\n",
    "    # creating lists for training set accuracy and test set accuracy\n",
    "    training_accuracy = []\n",
    "    test_accuracy = []\n",
    "    \n",
    "    \n",
    "    # setting neighbor range\n",
    "    neighbors_settings = range(1, max_neighbors + 1)\n",
    "\n",
    "\n",
    "    for n_neighbors in neighbors_settings:\n",
    "        # building the model based on response variable type\n",
    "        if response_type == 'reg':\n",
    "            clf = KNeighborsRegressor(n_neighbors = n_neighbors)\n",
    "            clf.fit(x_train, y_train)\n",
    "            \n",
    "        elif response_type == 'class':\n",
    "            clf = KNeighborsClassifier(n_neighbors = n_neighbors)\n",
    "            clf.fit(x_train, y_train)            \n",
    "            \n",
    "        else:\n",
    "            print(\"Error: response_type must be 'reg' or 'class'\")\n",
    "        \n",
    "        \n",
    "        # recording the training set accuracy\n",
    "        training_accuracy.append(clf.score(x_train, y_train))\n",
    "    \n",
    "        # recording the generalization accuracy\n",
    "        test_accuracy.append(clf.score(x_test, y_test))\n",
    "\n",
    "\n",
    "    # optionally displaying visualization\n",
    "    if show_viz == True:\n",
    "        # plotting the visualization\n",
    "        fig, ax = plt.subplots(figsize=(12,8))\n",
    "        plt.plot(neighbors_settings, training_accuracy, label = \"training accuracy\")\n",
    "        plt.plot(neighbors_settings, test_accuracy, label = \"test accuracy\")\n",
    "        plt.ylabel(\"Accuracy\")\n",
    "        plt.xlabel(\"n_neighbors\")\n",
    "        plt.legend()\n",
    "        plt.show()\n",
    "    \n",
    "    \n",
    "    # returning optimal number of neighbors\n",
    "    print(f\"The optimal number of neighbors is: {test_accuracy.index(max(test_accuracy))+1}\")\n",
    "    return test_accuracy.index(max(test_accuracy))+1\n",
    "\n",
    "\n",
    "########################################\n",
    "# visual_cm\n",
    "########################################\n",
    "def visual_cm(true_y, pred_y, labels = None):\n",
    "    \"\"\"\n",
    "Creates a visualization of a confusion matrix.\n",
    "\n",
    "PARAMETERS\n",
    "----------\n",
    "true_y : true values for the response variable\n",
    "pred_y : predicted values for the response variable\n",
    "labels : , default None\n",
    "    \"\"\"\n",
    "    # visualizing the confusion matrix\n",
    "\n",
    "    # setting labels\n",
    "    lbls = labels\n",
    "    \n",
    "\n",
    "    # declaring a confusion matrix object\n",
    "    cm = confusion_matrix(y_true = true_y,\n",
    "                          y_pred = pred_y)\n",
    "\n",
    "\n",
    "    # heatmap\n",
    "    sns.heatmap(cm,\n",
    "                annot       = True,\n",
    "                xticklabels = lbls,\n",
    "                yticklabels = lbls,\n",
    "                cmap        = 'Blues',\n",
    "                fmt         = 'g')\n",
    "\n",
    "\n",
    "    plt.xlabel('Predicted')\n",
    "    plt.ylabel('Actual')\n",
    "    plt.title('Confusion Matrix of the Classifier')\n",
    "    plt.show()"
   ]
  },
  {
   "cell_type": "code",
   "execution_count": 5,
   "metadata": {
    "code_folding": [
     0
    ]
   },
   "outputs": [],
   "source": [
    "# display_tree\n",
    "########################################\n",
    "def display_tree(tree, feature_df, height = 500, width = 800, export = False):\n",
    "    \"\"\"\n",
    "    PARAMETERS\n",
    "    ----------\n",
    "    tree       : fitted tree model object\n",
    "        fitted CART model to visualized\n",
    "    feature_df : DataFrame\n",
    "        DataFrame of explanatory features (used to generate labels)\n",
    "    height     : int, default 500\n",
    "        height in pixels to which to constrain image in html\n",
    "    width      : int, default 800\n",
    "        width in pixels to which to constrain image in html\n",
    "    export     : bool, defalut False\n",
    "        whether or not to export the tree as a .png file\n",
    "    \"\"\"\n",
    "\n",
    "    # visualizing the tree\n",
    "    dot_data = StringIO()\n",
    "\n",
    "    \n",
    "    # exporting tree to graphviz\n",
    "    export_graphviz(decision_tree      = tree,\n",
    "                    out_file           = dot_data,\n",
    "                    filled             = True,\n",
    "                    rounded            = True,\n",
    "                    special_characters = True,\n",
    "                    feature_names      = feature_df.columns)\n",
    "\n",
    "\n",
    "    # declaring a graph object\n",
    "    graph = pydotplus.graph_from_dot_data(dot_data.getvalue())\n",
    "\n",
    "\n",
    "    # creating image\n",
    "    img = Image(graph.create_png(),\n",
    "                height = height,\n",
    "                width  = width,\n",
    "                unconfined = True)\n",
    "\n",
    "\n",
    "    return img"
   ]
  },
  {
   "cell_type": "code",
   "execution_count": 6,
   "metadata": {
    "code_folding": [
     0
    ]
   },
   "outputs": [],
   "source": [
    "# plot_feature_importances\n",
    "########################################\n",
    "def plot_feature_importances(model, train, export = False):\n",
    "    \"\"\"\n",
    "    Plots the importance of features from a CART model.\n",
    "    \n",
    "    PARAMETERS\n",
    "    ----------\n",
    "    model  : CART model\n",
    "    train  : explanatory variable training data\n",
    "    export : whether or not to export as a .png image, default False\n",
    "    \"\"\"\n",
    "    \n",
    "    # declaring the number\n",
    "    n_features = train.shape[1]\n",
    "    \n",
    "    # setting plot window\n",
    "    fig, ax = plt.subplots(figsize=(12,9))\n",
    "    \n",
    "    plt.barh(range(n_features), model.feature_importances_, align='center')\n",
    "    plt.yticks(pd.np.arange(n_features), train.columns)\n",
    "    plt.xlabel(\"Feature importance\")\n",
    "    plt.ylabel(\"Feature\")\n",
    "    \n",
    "    if export == True:\n",
    "        plt.savefig('./analysis_images/Feature_Importance.png')"
   ]
  },
  {
   "cell_type": "markdown",
   "metadata": {},
   "source": [
    "# Primary Feature Engineering"
   ]
  },
  {
   "cell_type": "code",
   "execution_count": 7,
   "metadata": {
    "code_folding": [
     0
    ]
   },
   "outputs": [
    {
     "data": {
      "text/html": [
       "<div>\n",
       "<style scoped>\n",
       "    .dataframe tbody tr th:only-of-type {\n",
       "        vertical-align: middle;\n",
       "    }\n",
       "\n",
       "    .dataframe tbody tr th {\n",
       "        vertical-align: top;\n",
       "    }\n",
       "\n",
       "    .dataframe thead th {\n",
       "        text-align: right;\n",
       "    }\n",
       "</style>\n",
       "<table border=\"1\" class=\"dataframe\">\n",
       "  <thead>\n",
       "    <tr style=\"text-align: right;\">\n",
       "      <th></th>\n",
       "      <th>0</th>\n",
       "      <th>1</th>\n",
       "    </tr>\n",
       "  </thead>\n",
       "  <tbody>\n",
       "    <tr>\n",
       "      <th>0</th>\n",
       "      <td>saathos</td>\n",
       "      <td>unitedhealth.com</td>\n",
       "    </tr>\n",
       "    <tr>\n",
       "      <th>1</th>\n",
       "      <td>alysanne.osgrey</td>\n",
       "      <td>ge.org</td>\n",
       "    </tr>\n",
       "    <tr>\n",
       "      <th>2</th>\n",
       "      <td>edwyd.fossoway</td>\n",
       "      <td>jnj.com</td>\n",
       "    </tr>\n",
       "    <tr>\n",
       "      <th>3</th>\n",
       "      <td>eleyna.westerling</td>\n",
       "      <td>ge.org</td>\n",
       "    </tr>\n",
       "    <tr>\n",
       "      <th>4</th>\n",
       "      <td>elyn.norridge</td>\n",
       "      <td>jnj.com</td>\n",
       "    </tr>\n",
       "    <tr>\n",
       "      <th>...</th>\n",
       "      <td>...</td>\n",
       "      <td>...</td>\n",
       "    </tr>\n",
       "    <tr>\n",
       "      <th>1941</th>\n",
       "      <td>obara.sand</td>\n",
       "      <td>yahoo.com</td>\n",
       "    </tr>\n",
       "    <tr>\n",
       "      <th>1942</th>\n",
       "      <td>quentyn.blackwood</td>\n",
       "      <td>yahoo.com</td>\n",
       "    </tr>\n",
       "    <tr>\n",
       "      <th>1943</th>\n",
       "      <td>rhonda.rowan</td>\n",
       "      <td>gmail.com</td>\n",
       "    </tr>\n",
       "    <tr>\n",
       "      <th>1944</th>\n",
       "      <td>turnip</td>\n",
       "      <td>yahoo.com</td>\n",
       "    </tr>\n",
       "    <tr>\n",
       "      <th>1945</th>\n",
       "      <td>tommard.heddle</td>\n",
       "      <td>merck.com</td>\n",
       "    </tr>\n",
       "  </tbody>\n",
       "</table>\n",
       "<p>1946 rows × 2 columns</p>\n",
       "</div>"
      ],
      "text/plain": [
       "                      0                 1\n",
       "0               saathos  unitedhealth.com\n",
       "1       alysanne.osgrey            ge.org\n",
       "2        edwyd.fossoway           jnj.com\n",
       "3     eleyna.westerling            ge.org\n",
       "4         elyn.norridge           jnj.com\n",
       "...                 ...               ...\n",
       "1941         obara.sand         yahoo.com\n",
       "1942  quentyn.blackwood         yahoo.com\n",
       "1943       rhonda.rowan         gmail.com\n",
       "1944             turnip         yahoo.com\n",
       "1945     tommard.heddle         merck.com\n",
       "\n",
       "[1946 rows x 2 columns]"
      ]
     },
     "execution_count": 7,
     "metadata": {},
     "output_type": "execute_result"
    }
   ],
   "source": [
    "#working with emails (categoricals) first\n",
    "#we want to seperate email domains before making dummie vars\n",
    "\n",
    "# setting random seed\n",
    "rand.seed(a = 327)\n",
    "\n",
    "# STEP 1: splitting personal emails\n",
    "\n",
    "# placeholder list\n",
    "placeholder_lst = []\n",
    "\n",
    "# looping over each email address\n",
    "for index, col in chefset.iterrows():\n",
    "    \n",
    "    # splitting email domain at '@'\n",
    "    split_email = chefset.loc[index, 'EMAIL'].split(sep = '@')\n",
    "    \n",
    "    # appending placeholder_lst with the results\n",
    "    placeholder_lst.append(split_email)\n",
    "    \n",
    "\n",
    "# converting placeholder_lst into a DataFrame \n",
    "email_df = pd.DataFrame(placeholder_lst)\n",
    "\n",
    "\n",
    "# displaying the results\n",
    "email_df"
   ]
  },
  {
   "cell_type": "code",
   "execution_count": 8,
   "metadata": {
    "code_folding": [
     0
    ]
   },
   "outputs": [
    {
     "data": {
      "text/plain": [
       "gmail.com           303\n",
       "protonmail.com      284\n",
       "yahoo.com           274\n",
       "msn.com              72\n",
       "aol.com              69\n",
       "passport.com         64\n",
       "hotmail.com          63\n",
       "live.com             62\n",
       "me.com               59\n",
       "amex.com             30\n",
       "mcdonalds.com        28\n",
       "jnj.com              28\n",
       "cocacola.com         28\n",
       "merck.com            28\n",
       "apple.com            27\n",
       "nike.com             27\n",
       "dupont.com           26\n",
       "ge.org               26\n",
       "ibm.com              26\n",
       "microsoft.com        25\n",
       "chevron.com          25\n",
       "exxon.com            24\n",
       "travelers.com        24\n",
       "unitedhealth.com     24\n",
       "boeing.com           23\n",
       "pg.com               22\n",
       "verizon.com          22\n",
       "mmm.com              22\n",
       "caterpillar.com      22\n",
       "disney.com           21\n",
       "walmart.com          21\n",
       "visa.com             20\n",
       "pfizer.com           20\n",
       "jpmorgan.com         19\n",
       "unitedtech.com       18\n",
       "goldmansacs.com      18\n",
       "cisco.com            18\n",
       "intel.com            17\n",
       "homedepot.com        17\n",
       "Name: EMAIL_domains, dtype: int64"
      ]
     },
     "execution_count": 8,
     "metadata": {},
     "output_type": "execute_result"
    }
   ],
   "source": [
    "# STEP 2: concatenating with original DataFrame\n",
    "\n",
    "# safety measure in case of multiple concatenations\n",
    "chefset = pd.read_excel(file)\n",
    "\n",
    "\n",
    "# renaming column to concatenate\n",
    "email_df.columns = ['0' , 'EMAIL_domains']\n",
    "\n",
    "\n",
    "# concatenating personal_email_domain with friends DataFrame\n",
    "chefset = pd.concat([chefset, email_df['EMAIL_domains']],\n",
    "                     axis = 1)\n",
    "\n",
    "\n",
    "# printing value counts of personal_email_domain\n",
    "chefset.loc[: ,'EMAIL_domains'].value_counts()"
   ]
  },
  {
   "cell_type": "code",
   "execution_count": 9,
   "metadata": {
    "code_folding": [
     0
    ]
   },
   "outputs": [
    {
     "data": {
      "text/html": [
       "<div>\n",
       "<style scoped>\n",
       "    .dataframe tbody tr th:only-of-type {\n",
       "        vertical-align: middle;\n",
       "    }\n",
       "\n",
       "    .dataframe tbody tr th {\n",
       "        vertical-align: top;\n",
       "    }\n",
       "\n",
       "    .dataframe thead th {\n",
       "        text-align: right;\n",
       "    }\n",
       "</style>\n",
       "<table border=\"1\" class=\"dataframe\">\n",
       "  <thead>\n",
       "    <tr style=\"text-align: right;\">\n",
       "      <th></th>\n",
       "      <th>0</th>\n",
       "      <th>1</th>\n",
       "    </tr>\n",
       "  </thead>\n",
       "  <tbody>\n",
       "    <tr>\n",
       "      <th>0</th>\n",
       "      <td>unitedhealth</td>\n",
       "      <td>com</td>\n",
       "    </tr>\n",
       "    <tr>\n",
       "      <th>1</th>\n",
       "      <td>ge</td>\n",
       "      <td>org</td>\n",
       "    </tr>\n",
       "    <tr>\n",
       "      <th>2</th>\n",
       "      <td>jnj</td>\n",
       "      <td>com</td>\n",
       "    </tr>\n",
       "    <tr>\n",
       "      <th>3</th>\n",
       "      <td>ge</td>\n",
       "      <td>org</td>\n",
       "    </tr>\n",
       "    <tr>\n",
       "      <th>4</th>\n",
       "      <td>jnj</td>\n",
       "      <td>com</td>\n",
       "    </tr>\n",
       "    <tr>\n",
       "      <th>...</th>\n",
       "      <td>...</td>\n",
       "      <td>...</td>\n",
       "    </tr>\n",
       "    <tr>\n",
       "      <th>1941</th>\n",
       "      <td>yahoo</td>\n",
       "      <td>com</td>\n",
       "    </tr>\n",
       "    <tr>\n",
       "      <th>1942</th>\n",
       "      <td>yahoo</td>\n",
       "      <td>com</td>\n",
       "    </tr>\n",
       "    <tr>\n",
       "      <th>1943</th>\n",
       "      <td>gmail</td>\n",
       "      <td>com</td>\n",
       "    </tr>\n",
       "    <tr>\n",
       "      <th>1944</th>\n",
       "      <td>yahoo</td>\n",
       "      <td>com</td>\n",
       "    </tr>\n",
       "    <tr>\n",
       "      <th>1945</th>\n",
       "      <td>merck</td>\n",
       "      <td>com</td>\n",
       "    </tr>\n",
       "  </tbody>\n",
       "</table>\n",
       "<p>1946 rows × 2 columns</p>\n",
       "</div>"
      ],
      "text/plain": [
       "                 0    1\n",
       "0     unitedhealth  com\n",
       "1               ge  org\n",
       "2              jnj  com\n",
       "3               ge  org\n",
       "4              jnj  com\n",
       "...            ...  ...\n",
       "1941         yahoo  com\n",
       "1942         yahoo  com\n",
       "1943         gmail  com\n",
       "1944         yahoo  com\n",
       "1945         merck  com\n",
       "\n",
       "[1946 rows x 2 columns]"
      ]
     },
     "execution_count": 9,
     "metadata": {},
     "output_type": "execute_result"
    }
   ],
   "source": [
    "#STEP 3: splittling the domains at \".\"\n",
    "# email domain types\n",
    "# creating a list for email names with no dots to rduce error\n",
    "dot_lst = []\n",
    "\n",
    "# looping over each email address\n",
    "for index, col in chefset.iterrows():\n",
    "    \n",
    "    # splitting email domain at '.'\n",
    "    email_dot = chefset.loc[index, 'EMAIL_domains'].split(sep = '.')\n",
    "    \n",
    "    # appending dot_lst with the results\n",
    "    dot_lst.append(email_dot)\n",
    "    \n",
    "\n",
    "# converting _df into a DataFrame \n",
    "emailclean_df = pd.DataFrame(dot_lst)\n",
    "\n",
    "\n",
    "# displaying the results\n",
    "emailclean_df"
   ]
  },
  {
   "cell_type": "code",
   "execution_count": 10,
   "metadata": {
    "code_folding": [
     0
    ]
   },
   "outputs": [
    {
     "data": {
      "text/plain": [
       "gmail           303\n",
       "protonmail      284\n",
       "yahoo           274\n",
       "msn              72\n",
       "aol              69\n",
       "passport         64\n",
       "hotmail          63\n",
       "live             62\n",
       "me               59\n",
       "amex             30\n",
       "mcdonalds        28\n",
       "jnj              28\n",
       "merck            28\n",
       "cocacola         28\n",
       "nike             27\n",
       "apple            27\n",
       "ibm              26\n",
       "ge               26\n",
       "dupont           26\n",
       "microsoft        25\n",
       "chevron          25\n",
       "unitedhealth     24\n",
       "travelers        24\n",
       "exxon            24\n",
       "boeing           23\n",
       "mmm              22\n",
       "verizon          22\n",
       "caterpillar      22\n",
       "pg               22\n",
       "disney           21\n",
       "walmart          21\n",
       "visa             20\n",
       "pfizer           20\n",
       "jpmorgan         19\n",
       "goldmansacs      18\n",
       "cisco            18\n",
       "unitedtech       18\n",
       "intel            17\n",
       "homedepot        17\n",
       "Name: CLEAN_EMAILS, dtype: int64"
      ]
     },
     "execution_count": 10,
     "metadata": {},
     "output_type": "execute_result"
    }
   ],
   "source": [
    "# STEP 4 : CLEAN EMAIL DOMAINS IN A NEW COLUMN IN CHEFSET\n",
    "\n",
    "# safety measure in case of multiple concatenations\n",
    "chefset = pd.read_excel(file)\n",
    "\n",
    "\n",
    "# renaming column to concatenate\n",
    "emailclean_df.columns = ['CLEAN_EMAILS' , '1']\n",
    "\n",
    "\n",
    "# concatenating personal_email_domain with chefset DataFrame\n",
    "#adds the column to the dataset\n",
    "chefset = pd.concat([chefset, emailclean_df['CLEAN_EMAILS']],\n",
    "                   axis = 1)\n",
    "\n",
    "\n",
    "# printing value counts of personal_email_domain\n",
    "chefset.loc[: ,'CLEAN_EMAILS'].value_counts()"
   ]
  },
  {
   "cell_type": "code",
   "execution_count": 11,
   "metadata": {
    "code_folding": [
     0
    ]
   },
   "outputs": [
    {
     "data": {
      "text/plain": [
       "personal    861\n",
       "work        696\n",
       "junk        389\n",
       "Name: DOMAIN_GROUP, dtype: int64"
      ]
     },
     "execution_count": 11,
     "metadata": {},
     "output_type": "execute_result"
    }
   ],
   "source": [
    "#Aggregating personal and work emails into 2 groups \n",
    "#values for some emails are less than 100 observations so we aggregate\n",
    "\n",
    "# email domain types, personal and work\n",
    "personal_emails = ['gmail','protonmail','yahoo']\n",
    "\n",
    "work_emails  = ['amex','cocacola','jnj','merck',\n",
    "                       'mcdonalds','nike','apple','dupont','ibm',\n",
    "                       'ge','microsoft','chevron','travelers',\n",
    "                       'exxon','unitedhealth','boeing','caterpillar',\n",
    "                       'mmm','pg','verizon','walmart','disney',\n",
    "                       'pfizer','visa','jpmorgan','unitedtech',\n",
    "                       'cisco','goldmansacs','intel','homedepot']\n",
    "\n",
    "junk_emails= ['me','aol','hotmail','live','msn','passport']\n",
    "\n",
    "# placeholder list\n",
    "email_lst = []\n",
    "\n",
    "\n",
    "# looping to group observations by domain type\n",
    "for domain in chefset['CLEAN_EMAILS']:\n",
    "    \n",
    "        if domain in personal_emails:\n",
    "            email_lst.append('personal')\n",
    "            \n",
    "        elif domain in work_emails:\n",
    "            email_lst.append('work')\n",
    "        \n",
    "        elif domain in junk_emails:\n",
    "            email_lst.append('junk')\n",
    "            \n",
    "        else:\n",
    "            print('Unknown')\n",
    "\n",
    "\n",
    "# concatenating with original DataFrame\n",
    "chefset['DOMAIN_GROUP'] = pd.Series(email_lst)\n",
    "\n",
    "\n",
    "# checking results\n",
    "chefset['DOMAIN_GROUP'].value_counts()"
   ]
  },
  {
   "cell_type": "code",
   "execution_count": 12,
   "metadata": {
    "code_folding": [
     0
    ]
   },
   "outputs": [],
   "source": [
    "# one hot encoding categorical variables\n",
    "one_hot_DOMAIN_GROUP    = pd.get_dummies(chefset['DOMAIN_GROUP'])\n",
    "\n",
    "# dropping categorical variables after they've been encoded\n",
    "chefset= chefset.drop('DOMAIN_GROUP', axis = 1)\n",
    "\n",
    "# joining codings together\n",
    "#appending new categorical data\n",
    "chefset = chefset.join([one_hot_DOMAIN_GROUP ])\n",
    "\n",
    "# saving new columns\n",
    "new_columns = chefset.columns"
   ]
  },
  {
   "cell_type": "code",
   "execution_count": 13,
   "metadata": {
    "code_folding": [
     0
    ]
   },
   "outputs": [],
   "source": [
    "#missing value analysis and imputation\n",
    "#initiatiating an imputation value for family name\n",
    "fill= \"na\"\n",
    "\n",
    "#imputing 'FAMILY_NAME'\n",
    "chefset['FAMILY_NAME'] =chefset['FAMILY_NAME'].fillna(fill)"
   ]
  },
  {
   "cell_type": "code",
   "execution_count": 14,
   "metadata": {
    "code_folding": [
     0
    ]
   },
   "outputs": [
    {
     "data": {
      "text/plain": [
       "False"
      ]
     },
     "execution_count": 14,
     "metadata": {},
     "output_type": "execute_result"
    }
   ],
   "source": [
    "#checking to see if any values are still missing\n",
    "chefset.isnull().any(axis=0).any(axis=0)"
   ]
  },
  {
   "cell_type": "code",
   "execution_count": 15,
   "metadata": {
    "code_folding": [
     0
    ]
   },
   "outputs": [],
   "source": [
    "#changing the name of a column\n",
    "#largest order size is actually the avg number or meals ordered\n",
    "chefset.rename(columns={'LARGEST_ORDER_SIZE': 'AVG_NUM_MEALS_ORD'}, inplace=True)"
   ]
  },
  {
   "cell_type": "code",
   "execution_count": 16,
   "metadata": {
    "code_folding": [
     0
    ]
   },
   "outputs": [
    {
     "data": {
      "text/plain": [
       "0       1\n",
       "1       2\n",
       "2       2\n",
       "3       2\n",
       "4       2\n",
       "       ..\n",
       "1941    2\n",
       "1942    2\n",
       "1943    2\n",
       "1944    1\n",
       "1945    2\n",
       "Name: NUM_OF_NAMES, Length: 1946, dtype: int64"
      ]
     },
     "execution_count": 16,
     "metadata": {},
     "output_type": "execute_result"
    }
   ],
   "source": [
    "# calling text_split_feature for number of names\n",
    "text_split_feature('NAME', chefset, sep='')\n",
    "\n",
    "\n",
    "# checking results\n",
    "chefset['NUM_OF_NAMES']"
   ]
  },
  {
   "cell_type": "markdown",
   "metadata": {},
   "source": [
    "# Regression Analysis "
   ]
  },
  {
   "cell_type": "code",
   "execution_count": 17,
   "metadata": {
    "code_folding": [
     0
    ]
   },
   "outputs": [],
   "source": [
    "#building a model for the regression ANalysis\n",
    "chefset_reg= chefset.copy()"
   ]
  },
  {
   "cell_type": "code",
   "execution_count": 18,
   "metadata": {
    "code_folding": [
     0
    ]
   },
   "outputs": [],
   "source": [
    "#log transforming Revenue and saving it to the dataset\n",
    "chefset_reg['log_REVENUE'] = np.log10(chefset_reg['REVENUE'])"
   ]
  },
  {
   "cell_type": "code",
   "execution_count": 19,
   "metadata": {
    "code_folding": [
     0
    ]
   },
   "outputs": [
    {
     "data": {
      "text/html": [
       "<div>\n",
       "<style scoped>\n",
       "    .dataframe tbody tr th:only-of-type {\n",
       "        vertical-align: middle;\n",
       "    }\n",
       "\n",
       "    .dataframe tbody tr th {\n",
       "        vertical-align: top;\n",
       "    }\n",
       "\n",
       "    .dataframe thead th {\n",
       "        text-align: right;\n",
       "    }\n",
       "</style>\n",
       "<table border=\"1\" class=\"dataframe\">\n",
       "  <thead>\n",
       "    <tr style=\"text-align: right;\">\n",
       "      <th></th>\n",
       "      <th>has_viewed_photos</th>\n",
       "      <th>has_MASTER_CLASSES_ATTENDED</th>\n",
       "      <th>has_MOBILE_LOGINS</th>\n",
       "      <th>has_WEEKLY_PLAN</th>\n",
       "      <th>has_EARLY_DELIVERIES</th>\n",
       "      <th>has_LATE_DELIVERIES</th>\n",
       "      <th>has_CANCELLATIONS_BEFORE_NOON</th>\n",
       "      <th>has_CANCELLATIONS_AFTER_NOON</th>\n",
       "    </tr>\n",
       "  </thead>\n",
       "  <tbody>\n",
       "    <tr>\n",
       "      <th>0</th>\n",
       "      <td>0</td>\n",
       "      <td>0</td>\n",
       "      <td>1</td>\n",
       "      <td>0</td>\n",
       "      <td>0</td>\n",
       "      <td>1</td>\n",
       "      <td>1</td>\n",
       "      <td>1</td>\n",
       "    </tr>\n",
       "    <tr>\n",
       "      <th>1</th>\n",
       "      <td>1</td>\n",
       "      <td>0</td>\n",
       "      <td>1</td>\n",
       "      <td>1</td>\n",
       "      <td>0</td>\n",
       "      <td>1</td>\n",
       "      <td>0</td>\n",
       "      <td>0</td>\n",
       "    </tr>\n",
       "    <tr>\n",
       "      <th>2</th>\n",
       "      <td>0</td>\n",
       "      <td>0</td>\n",
       "      <td>1</td>\n",
       "      <td>1</td>\n",
       "      <td>0</td>\n",
       "      <td>1</td>\n",
       "      <td>1</td>\n",
       "      <td>0</td>\n",
       "    </tr>\n",
       "    <tr>\n",
       "      <th>3</th>\n",
       "      <td>0</td>\n",
       "      <td>0</td>\n",
       "      <td>1</td>\n",
       "      <td>1</td>\n",
       "      <td>0</td>\n",
       "      <td>1</td>\n",
       "      <td>1</td>\n",
       "      <td>0</td>\n",
       "    </tr>\n",
       "    <tr>\n",
       "      <th>4</th>\n",
       "      <td>1</td>\n",
       "      <td>1</td>\n",
       "      <td>1</td>\n",
       "      <td>1</td>\n",
       "      <td>0</td>\n",
       "      <td>1</td>\n",
       "      <td>0</td>\n",
       "      <td>0</td>\n",
       "    </tr>\n",
       "  </tbody>\n",
       "</table>\n",
       "</div>"
      ],
      "text/plain": [
       "   has_viewed_photos  has_MASTER_CLASSES_ATTENDED  has_MOBILE_LOGINS  has_WEEKLY_PLAN  has_EARLY_DELIVERIES  has_LATE_DELIVERIES  has_CANCELLATIONS_BEFORE_NOON  has_CANCELLATIONS_AFTER_NOON\n",
       "0                  0                            0                  1                0                     0                    1                              1                             1\n",
       "1                  1                            0                  1                1                     0                    1                              0                             0\n",
       "2                  0                            0                  1                1                     0                    1                              1                             0\n",
       "3                  0                            0                  1                1                     0                    1                              1                             0\n",
       "4                  1                            1                  1                1                     0                    1                              0                             0"
      ]
     },
     "execution_count": 19,
     "metadata": {},
     "output_type": "execute_result"
    }
   ],
   "source": [
    "# dummy variables for vars with zeros.\n",
    "chefset_reg['has_viewed_photos']        = 0\n",
    "chefset_reg['has_MASTER_CLASSES_ATTENDED']        = 0\n",
    "chefset_reg['has_MOBILE_LOGINS']        = 0\n",
    "chefset_reg['has_WEEKLY_PLAN']        = 0\n",
    "chefset_reg['has_EARLY_DELIVERIES']        = 0\n",
    "chefset_reg['has_LATE_DELIVERIES']        = 0\n",
    "chefset_reg['has_CANCELLATIONS_BEFORE_NOON']        = 0\n",
    "chefset_reg['has_CANCELLATIONS_AFTER_NOON']        = 0\n",
    "\n",
    "\n",
    "#if we're above a threshold, creating a new column \n",
    "# iterating over each original column to\n",
    "# change values in the new feature columns\n",
    "for index, value in chefset_reg.iterrows():\n",
    "    \n",
    "    #total photos viewed\n",
    "    if chefset_reg.loc[index, 'TOTAL_PHOTOS_VIEWED'] > 0:\n",
    "        chefset_reg.loc[index, 'has_viewed_photos'] = 1\n",
    "    \n",
    "    #master claases\n",
    "    if chefset_reg.loc[index, 'MASTER_CLASSES_ATTENDED'] > 0:\n",
    "        chefset_reg.loc[index, 'has_MASTER_CLASSES_ATTENDED'] = 1\n",
    "    #mobile logins    \n",
    "    if chefset_reg.loc[index, 'MOBILE_LOGINS'] > 0:\n",
    "        chefset_reg.loc[index, 'has_MOBILE_LOGINS'] = 1\n",
    "    #weekly plan\n",
    "    if chefset_reg.loc[index, 'WEEKLY_PLAN'] > 0:\n",
    "        chefset_reg.loc[index, 'has_WEEKLY_PLAN'] = 1\n",
    "    #early deliveries\n",
    "    if chefset_reg.loc[index, 'EARLY_DELIVERIES'] > 0:\n",
    "        chefset_reg.loc[index, 'has_EARLY_DELIVERIES'] = 1\n",
    "    #late deliveries\n",
    "    if chefset_reg.loc[index, 'LATE_DELIVERIES'] > 0:\n",
    "        chefset_reg.loc[index, 'has_LATE_DELIVERIES'] = 1\n",
    "    #cancel before 12\n",
    "    if chefset_reg.loc[index, 'CANCELLATIONS_BEFORE_NOON'] > 0:\n",
    "        chefset_reg.loc[index, 'has_CANCELLATIONS_BEFORE_NOON'] = 1\n",
    "    #after 12\n",
    "    if chefset_reg.loc[index, 'CANCELLATIONS_AFTER_NOON'] > 0:\n",
    "        chefset_reg.loc[index, 'has_CANCELLATIONS_AFTER_NOON'] = 1\n",
    "\n",
    "# checking results\n",
    "chefset_reg[['has_viewed_photos', 'has_MASTER_CLASSES_ATTENDED','has_MOBILE_LOGINS',\n",
    "         'has_WEEKLY_PLAN', 'has_EARLY_DELIVERIES', 'has_LATE_DELIVERIES', \n",
    "         'has_CANCELLATIONS_BEFORE_NOON', 'has_CANCELLATIONS_AFTER_NOON']].head()"
   ]
  },
  {
   "cell_type": "code",
   "execution_count": 20,
   "metadata": {
    "code_folding": [
     0
    ]
   },
   "outputs": [
    {
     "data": {
      "text/html": [
       "<div>\n",
       "<style scoped>\n",
       "    .dataframe tbody tr th:only-of-type {\n",
       "        vertical-align: middle;\n",
       "    }\n",
       "\n",
       "    .dataframe tbody tr th {\n",
       "        vertical-align: top;\n",
       "    }\n",
       "\n",
       "    .dataframe thead th {\n",
       "        text-align: right;\n",
       "    }\n",
       "</style>\n",
       "<table border=\"1\" class=\"dataframe\">\n",
       "  <thead>\n",
       "    <tr style=\"text-align: right;\">\n",
       "      <th></th>\n",
       "      <th>REVENUE</th>\n",
       "      <th>log_REVENUE</th>\n",
       "    </tr>\n",
       "  </thead>\n",
       "  <tbody>\n",
       "    <tr>\n",
       "      <th>UNIQUE_MEALS_PURCH</th>\n",
       "      <td>-0.06</td>\n",
       "      <td>-0.08</td>\n",
       "    </tr>\n",
       "    <tr>\n",
       "      <th>log_UNIQUE_MEALS_PURCH</th>\n",
       "      <td>-0.12</td>\n",
       "      <td>-0.13</td>\n",
       "    </tr>\n",
       "    <tr>\n",
       "      <th>CONTACTS_W_CUSTOMER_SERVICE</th>\n",
       "      <td>0.10</td>\n",
       "      <td>-0.04</td>\n",
       "    </tr>\n",
       "    <tr>\n",
       "      <th>log_CONTACTS_W_CUSTOMER_SERVICE</th>\n",
       "      <td>0.17</td>\n",
       "      <td>0.05</td>\n",
       "    </tr>\n",
       "    <tr>\n",
       "      <th>PRODUCT_CATEGORIES_VIEWED</th>\n",
       "      <td>0.03</td>\n",
       "      <td>0.04</td>\n",
       "    </tr>\n",
       "    <tr>\n",
       "      <th>log_PRODUCT_CATEGORIES_VIEWED</th>\n",
       "      <td>0.01</td>\n",
       "      <td>0.01</td>\n",
       "    </tr>\n",
       "    <tr>\n",
       "      <th>PC_LOGINS</th>\n",
       "      <td>0.02</td>\n",
       "      <td>0.01</td>\n",
       "    </tr>\n",
       "    <tr>\n",
       "      <th>log_PC_LOGINS</th>\n",
       "      <td>0.01</td>\n",
       "      <td>0.01</td>\n",
       "    </tr>\n",
       "    <tr>\n",
       "      <th>MEDIAN_MEAL_RATING</th>\n",
       "      <td>0.61</td>\n",
       "      <td>0.65</td>\n",
       "    </tr>\n",
       "    <tr>\n",
       "      <th>log_MEDIAN_MEAL_RATING</th>\n",
       "      <td>0.55</td>\n",
       "      <td>0.61</td>\n",
       "    </tr>\n",
       "    <tr>\n",
       "      <th>AVG_CLICKS_PER_VISIT</th>\n",
       "      <td>-0.55</td>\n",
       "      <td>-0.58</td>\n",
       "    </tr>\n",
       "    <tr>\n",
       "      <th>log_AVG_CLICKS_PER_VISIT</th>\n",
       "      <td>-0.56</td>\n",
       "      <td>-0.58</td>\n",
       "    </tr>\n",
       "    <tr>\n",
       "      <th>AVG_NUM_MEALS_ORD</th>\n",
       "      <td>0.44</td>\n",
       "      <td>0.45</td>\n",
       "    </tr>\n",
       "    <tr>\n",
       "      <th>log_AVG_NUM_MEALS_ORD</th>\n",
       "      <td>0.42</td>\n",
       "      <td>0.45</td>\n",
       "    </tr>\n",
       "    <tr>\n",
       "      <th>TOTAL_MEALS_ORDERED</th>\n",
       "      <td>0.60</td>\n",
       "      <td>0.61</td>\n",
       "    </tr>\n",
       "  </tbody>\n",
       "</table>\n",
       "</div>"
      ],
      "text/plain": [
       "                                 REVENUE  log_REVENUE\n",
       "UNIQUE_MEALS_PURCH                 -0.06        -0.08\n",
       "log_UNIQUE_MEALS_PURCH             -0.12        -0.13\n",
       "CONTACTS_W_CUSTOMER_SERVICE         0.10        -0.04\n",
       "log_CONTACTS_W_CUSTOMER_SERVICE     0.17         0.05\n",
       "PRODUCT_CATEGORIES_VIEWED           0.03         0.04\n",
       "log_PRODUCT_CATEGORIES_VIEWED       0.01         0.01\n",
       "PC_LOGINS                           0.02         0.01\n",
       "log_PC_LOGINS                       0.01         0.01\n",
       "MEDIAN_MEAL_RATING                  0.61         0.65\n",
       "log_MEDIAN_MEAL_RATING              0.55         0.61\n",
       "AVG_CLICKS_PER_VISIT               -0.55        -0.58\n",
       "log_AVG_CLICKS_PER_VISIT           -0.56        -0.58\n",
       "AVG_NUM_MEALS_ORD                   0.44         0.45\n",
       "log_AVG_NUM_MEALS_ORD               0.42         0.45\n",
       "TOTAL_MEALS_ORDERED                 0.60         0.61"
      ]
     },
     "execution_count": 20,
     "metadata": {},
     "output_type": "execute_result"
    }
   ],
   "source": [
    "#Log transform interval and count data, saving this new variable to chefset\n",
    "#creating new log vriables\n",
    "chefset_reg['log_UNIQUE_MEALS_PURCH'] = np.log10(chefset_reg['UNIQUE_MEALS_PURCH'])\n",
    "chefset_reg['log_CONTACTS_W_CUSTOMER_SERVICE'] = np.log10(chefset_reg['CONTACTS_W_CUSTOMER_SERVICE'])\n",
    "chefset_reg['log_PRODUCT_CATEGORIES_VIEWED'] = np.log10(chefset_reg['PRODUCT_CATEGORIES_VIEWED'])\n",
    "chefset_reg['log_PC_LOGINS'] = np.log10(chefset_reg['PC_LOGINS'])\n",
    "chefset_reg['log_MEDIAN_MEAL_RATING'] = np.log10(chefset_reg['MEDIAN_MEAL_RATING'])\n",
    "chefset_reg['log_AVG_CLICKS_PER_VISIT'] = np.log10(chefset_reg['AVG_CLICKS_PER_VISIT'])\n",
    "chefset_reg['log_AVG_NUM_MEALS_ORD'] = np.log10(chefset_reg['AVG_NUM_MEALS_ORD'])\n",
    "chefset_reg['log_TOTAL_MEALS_ORDERED'] = np.log10(chefset_reg['TOTAL_MEALS_ORDERED'])\n",
    "\n",
    "\n",
    "log_corr = chefset_reg.loc[ : , ['UNIQUE_MEALS_PURCH','log_UNIQUE_MEALS_PURCH','CONTACTS_W_CUSTOMER_SERVICE',\n",
    "                             'log_CONTACTS_W_CUSTOMER_SERVICE',\n",
    "                             'PRODUCT_CATEGORIES_VIEWED','log_PRODUCT_CATEGORIES_VIEWED',\n",
    "                             'PC_LOGINS','log_PC_LOGINS','MEDIAN_MEAL_RATING',\n",
    "                             'log_MEDIAN_MEAL_RATING','AVG_CLICKS_PER_VISIT','log_AVG_CLICKS_PER_VISIT'\n",
    "                             ,'AVG_NUM_MEALS_ORD','log_AVG_NUM_MEALS_ORD','TOTAL_MEALS_ORDERED',\n",
    "                             'REVENUE',\n",
    "                             'log_REVENUE']  ].corr(method = 'pearson')\\\n",
    "                                                 .round(decimals = 2)\n",
    "\n",
    "\n",
    "#looking at the variables/ log vars to see how correlated they are to revenue and log_rev\n",
    "log_corr.loc[ ['UNIQUE_MEALS_PURCH','log_UNIQUE_MEALS_PURCH','CONTACTS_W_CUSTOMER_SERVICE',\n",
    "                             'log_CONTACTS_W_CUSTOMER_SERVICE',\n",
    "                             'PRODUCT_CATEGORIES_VIEWED','log_PRODUCT_CATEGORIES_VIEWED',\n",
    "                             'PC_LOGINS','log_PC_LOGINS','MEDIAN_MEAL_RATING',\n",
    "                             'log_MEDIAN_MEAL_RATING','AVG_CLICKS_PER_VISIT','log_AVG_CLICKS_PER_VISIT',\n",
    "                             'AVG_NUM_MEALS_ORD','log_AVG_NUM_MEALS_ORD','TOTAL_MEALS_ORDERED'],\n",
    "              ['REVENUE', 'log_REVENUE']   ]"
   ]
  },
  {
   "cell_type": "code",
   "execution_count": 21,
   "metadata": {
    "code_folding": [
     0
    ]
   },
   "outputs": [
    {
     "name": "stdout",
     "output_type": "stream",
     "text": [
      "REVENUE                            1.00\n",
      "log_REVENUE                        0.95\n",
      "AVG_PREP_VID_TIME                  0.64\n",
      "MEDIAN_MEAL_RATING                 0.61\n",
      "log_TOTAL_MEALS_ORDERED            0.61\n",
      "TOTAL_MEALS_ORDERED                0.60\n",
      "log_MEDIAN_MEAL_RATING             0.55\n",
      "TOTAL_PHOTOS_VIEWED                0.47\n",
      "MASTER_CLASSES_ATTENDED            0.45\n",
      "has_MASTER_CLASSES_ATTENDED        0.45\n",
      "AVG_NUM_MEALS_ORD                  0.44\n",
      "log_AVG_NUM_MEALS_ORD              0.42\n",
      "has_viewed_photos                  0.37\n",
      "log_CONTACTS_W_CUSTOMER_SERVICE    0.17\n",
      "AVG_TIME_PER_SITE_VISIT            0.14\n",
      "CONTACTS_W_CUSTOMER_SERVICE        0.10\n",
      "NUM_OF_NAMES                       0.04\n",
      "PRODUCT_CATEGORIES_VIEWED          0.03\n",
      "MOBILE_NUMBER                      0.03\n",
      "has_CANCELLATIONS_BEFORE_NOON      0.02\n",
      "PC_LOGINS                          0.02\n",
      "CANCELLATIONS_BEFORE_NOON          0.01\n",
      "TASTES_AND_PREFERENCES             0.01\n",
      "WEEKLY_PLAN                        0.01\n",
      "log_PRODUCT_CATEGORIES_VIEWED      0.01\n",
      "personal                           0.01\n",
      "work                               0.01\n",
      "log_PC_LOGINS                      0.01\n",
      "has_MOBILE_LOGINS                  0.01\n",
      "has_EARLY_DELIVERIES               0.01\n",
      "REFRIGERATED_LOCKER               -0.00\n",
      "EARLY_DELIVERIES                  -0.00\n",
      "CROSS_SELL_SUCCESS                 0.00\n",
      "PACKAGE_LOCKER                    -0.01\n",
      "LATE_DELIVERIES                   -0.01\n",
      "junk                              -0.02\n",
      "MOBILE_LOGINS                     -0.02\n",
      "has_LATE_DELIVERIES               -0.02\n",
      "has_WEEKLY_PLAN                   -0.03\n",
      "has_CANCELLATIONS_AFTER_NOON      -0.04\n",
      "CANCELLATIONS_AFTER_NOON          -0.04\n",
      "UNIQUE_MEALS_PURCH                -0.06\n",
      "log_UNIQUE_MEALS_PURCH            -0.12\n",
      "AVG_CLICKS_PER_VISIT              -0.55\n",
      "log_AVG_CLICKS_PER_VISIT          -0.56\n",
      "Name: REVENUE, dtype: float64\n"
     ]
    }
   ],
   "source": [
    "# creating a (Pearson) correlation matrix\n",
    "df_corr = chefset_reg.corr().round(2)\n",
    "\n",
    "#which vars are highly correlated?\n",
    "# printing (Pearson) correlations with revenue\n",
    "print(df_corr.loc['REVENUE'].sort_values(ascending = False))"
   ]
  },
  {
   "cell_type": "markdown",
   "metadata": {},
   "source": [
    "# Appendix 1"
   ]
  },
  {
   "cell_type": "code",
   "execution_count": 22,
   "metadata": {
    "code_folding": []
   },
   "outputs": [
    {
     "data": {
      "text/plain": [
       "Text(0.5, 1.0, 'Matrix for Top Correlated Variables')"
      ]
     },
     "execution_count": 22,
     "metadata": {},
     "output_type": "execute_result"
    },
    {
     "data": {
      "image/png": "[encoded data removed]",
      "text/plain": [
       "<Figure size 720x720 with 2 Axes>"
      ]
     },
     "metadata": {
      "needs_background": "light"
     },
     "output_type": "display_data"
    }
   ],
   "source": [
    "#Creating a correlation matrix for the most highly correlated variables\n",
    "# limiting the size of the correlation matrix\n",
    "df_corr2 = df_corr.loc[ ['REVENUE','TOTAL_MEALS_ORDERED','AVG_TIME_PER_SITE_VISIT',\n",
    "                         'AVG_PREP_VID_TIME','TOTAL_PHOTOS_VIEWED','CROSS_SELL_SUCCESS',\n",
    "                         'UNIQUE_MEALS_PURCH',\n",
    "                         'CANCELLATIONS_AFTER_NOON',\n",
    "                         'MASTER_CLASSES_ATTENDED',\n",
    "                         'MEDIAN_MEAL_RATING','AVG_CLICKS_PER_VISIT','AVG_NUM_MEALS_ORD'],\n",
    "                        ['REVENUE','TOTAL_MEALS_ORDERED','AVG_TIME_PER_SITE_VISIT',\n",
    "                         'AVG_PREP_VID_TIME','TOTAL_PHOTOS_VIEWED','CROSS_SELL_SUCCESS',\n",
    "                         'UNIQUE_MEALS_PURCH',\n",
    "                         'CANCELLATIONS_AFTER_NOON',\n",
    "                         'MASTER_CLASSES_ATTENDED',\n",
    "                         'MEDIAN_MEAL_RATING','AVG_CLICKS_PER_VISIT','AVG_NUM_MEALS_ORD']]\n",
    "\n",
    "fig, ax = plt.subplots(figsize=(10,10))\n",
    "#corrs = chefset_reg.corr()\n",
    "mask = np.zeros_like(df_corr2)\n",
    "mask[np.triu_indices_from(mask)] = True\n",
    "sns.heatmap(df_corr2, cmap='Spectral_r', mask=mask, square=True, annot = True, \n",
    "            vmin=-.6, vmax=.6,linewidths = 0.5)\n",
    "plt.title('Matrix for Top Correlated Variables')"
   ]
  },
  {
   "cell_type": "code",
   "execution_count": 23,
   "metadata": {
    "code_folding": [
     0
    ]
   },
   "outputs": [
    {
     "name": "stdout",
     "output_type": "stream",
     "text": [
      "CROSS_SELL_SUCCESS +\n",
      "TOTAL_MEALS_ORDERED +\n",
      "UNIQUE_MEALS_PURCH +\n",
      "CONTACTS_W_CUSTOMER_SERVICE +\n",
      "PRODUCT_CATEGORIES_VIEWED +\n",
      "AVG_TIME_PER_SITE_VISIT +\n",
      "MOBILE_NUMBER +\n",
      "CANCELLATIONS_BEFORE_NOON +\n",
      "CANCELLATIONS_AFTER_NOON +\n",
      "TASTES_AND_PREFERENCES +\n",
      "PC_LOGINS +\n",
      "MOBILE_LOGINS +\n",
      "WEEKLY_PLAN +\n",
      "EARLY_DELIVERIES +\n",
      "LATE_DELIVERIES +\n",
      "PACKAGE_LOCKER +\n",
      "REFRIGERATED_LOCKER +\n",
      "AVG_PREP_VID_TIME +\n",
      "AVG_NUM_MEALS_ORD +\n",
      "MASTER_CLASSES_ATTENDED +\n",
      "MEDIAN_MEAL_RATING +\n",
      "AVG_CLICKS_PER_VISIT +\n",
      "TOTAL_PHOTOS_VIEWED +\n",
      "junk +\n",
      "personal +\n",
      "work +\n",
      "NUM_OF_NAMES +\n",
      "has_viewed_photos +\n",
      "has_MASTER_CLASSES_ATTENDED +\n",
      "has_MOBILE_LOGINS +\n",
      "has_WEEKLY_PLAN +\n",
      "has_EARLY_DELIVERIES +\n",
      "has_LATE_DELIVERIES +\n",
      "has_CANCELLATIONS_BEFORE_NOON +\n",
      "has_CANCELLATIONS_AFTER_NOON +\n",
      "log_UNIQUE_MEALS_PURCH +\n",
      "log_CONTACTS_W_CUSTOMER_SERVICE +\n",
      "log_PRODUCT_CATEGORIES_VIEWED +\n",
      "log_PC_LOGINS +\n",
      "log_MEDIAN_MEAL_RATING +\n",
      "log_AVG_CLICKS_PER_VISIT +\n",
      "log_AVG_NUM_MEALS_ORD +\n",
      "log_TOTAL_MEALS_ORDERED +\n"
     ]
    }
   ],
   "source": [
    "#Building Full Model to Compare  Explanatory Variables \n",
    "\n",
    "############################################\n",
    "\n",
    "# dropping from the explanatory variable set\n",
    "chefset_reg_data = chefset_reg.drop(['REVENUE','log_REVENUE',\n",
    "                                          #following columns removed due to no use or\n",
    "                                          #redundancy (ie: email categories and all email names)\n",
    "                                          'NAME','EMAIL','FIRST_NAME','FAMILY_NAME','CLEAN_EMAILS'\n",
    "                                          \n",
    "                                         ], axis = 1)\n",
    "\n",
    "# preparing response variables for log_chef_target\n",
    "log_chef_target = chefset_reg.loc[ : , 'log_REVENUE']\n",
    "\n",
    "# formatting each explanatory variable for statsmodels\n",
    "for val in chefset_reg_data:\n",
    "    print(val,'+')\n"
   ]
  },
  {
   "cell_type": "code",
   "execution_count": 24,
   "metadata": {
    "code_folding": [
     0
    ]
   },
   "outputs": [
    {
     "data": {
      "text/html": [
       "<table class=\"simpletable\">\n",
       "<caption>OLS Regression Results</caption>\n",
       "<tr>\n",
       "  <th>Dep. Variable:</th>       <td>log_REVENUE</td>   <th>  R-squared:         </th> <td>   0.774</td>\n",
       "</tr>\n",
       "<tr>\n",
       "  <th>Model:</th>                   <td>OLS</td>       <th>  Adj. R-squared:    </th> <td>   0.772</td>\n",
       "</tr>\n",
       "<tr>\n",
       "  <th>Method:</th>             <td>Least Squares</td>  <th>  F-statistic:       </th> <td>   347.3</td>\n",
       "</tr>\n",
       "<tr>\n",
       "  <th>Date:</th>             <td>Thu, 28 Jan 2021</td> <th>  Prob (F-statistic):</th>  <td>  0.00</td> \n",
       "</tr>\n",
       "<tr>\n",
       "  <th>Time:</th>                 <td>20:55:52</td>     <th>  Log-Likelihood:    </th> <td>  1707.0</td>\n",
       "</tr>\n",
       "<tr>\n",
       "  <th>No. Observations:</th>      <td>  1946</td>      <th>  AIC:               </th> <td>  -3374.</td>\n",
       "</tr>\n",
       "<tr>\n",
       "  <th>Df Residuals:</th>          <td>  1926</td>      <th>  BIC:               </th> <td>  -3263.</td>\n",
       "</tr>\n",
       "<tr>\n",
       "  <th>Df Model:</th>              <td>    19</td>      <th>                     </th>     <td> </td>   \n",
       "</tr>\n",
       "<tr>\n",
       "  <th>Covariance Type:</th>      <td>nonrobust</td>    <th>                     </th>     <td> </td>   \n",
       "</tr>\n",
       "</table>\n",
       "<table class=\"simpletable\">\n",
       "<tr>\n",
       "                 <td></td>                    <th>coef</th>     <th>std err</th>      <th>t</th>      <th>P>|t|</th>  <th>[0.025</th>    <th>0.975]</th>  \n",
       "</tr>\n",
       "<tr>\n",
       "  <th>Intercept</th>                       <td>    1.6235</td> <td>    0.029</td> <td>   55.722</td> <td> 0.000</td> <td>    1.566</td> <td>    1.681</td>\n",
       "</tr>\n",
       "<tr>\n",
       "  <th>CROSS_SELL_SUCCESS</th>              <td>   -0.0143</td> <td>    0.005</td> <td>   -2.768</td> <td> 0.006</td> <td>   -0.024</td> <td>   -0.004</td>\n",
       "</tr>\n",
       "<tr>\n",
       "  <th>TOTAL_MEALS_ORDERED</th>             <td>   -0.0009</td> <td>    0.000</td> <td>   -8.446</td> <td> 0.000</td> <td>   -0.001</td> <td>   -0.001</td>\n",
       "</tr>\n",
       "<tr>\n",
       "  <th>UNIQUE_MEALS_PURCH</th>              <td>    0.0534</td> <td>    0.003</td> <td>   18.786</td> <td> 0.000</td> <td>    0.048</td> <td>    0.059</td>\n",
       "</tr>\n",
       "<tr>\n",
       "  <th>PRODUCT_CATEGORIES_VIEWED</th>       <td>    0.0093</td> <td>    0.003</td> <td>    3.542</td> <td> 0.000</td> <td>    0.004</td> <td>    0.014</td>\n",
       "</tr>\n",
       "<tr>\n",
       "  <th>AVG_PREP_VID_TIME</th>               <td>    0.0015</td> <td> 9.32e-05</td> <td>   16.388</td> <td> 0.000</td> <td>    0.001</td> <td>    0.002</td>\n",
       "</tr>\n",
       "<tr>\n",
       "  <th>AVG_NUM_MEALS_ORD</th>               <td>   -0.0358</td> <td>    0.006</td> <td>   -5.876</td> <td> 0.000</td> <td>   -0.048</td> <td>   -0.024</td>\n",
       "</tr>\n",
       "<tr>\n",
       "  <th>MEDIAN_MEAL_RATING</th>              <td>    0.1360</td> <td>    0.014</td> <td>    9.411</td> <td> 0.000</td> <td>    0.108</td> <td>    0.164</td>\n",
       "</tr>\n",
       "<tr>\n",
       "  <th>TOTAL_PHOTOS_VIEWED</th>             <td> 5.836e-05</td> <td> 1.92e-05</td> <td>    3.041</td> <td> 0.002</td> <td> 2.07e-05</td> <td>  9.6e-05</td>\n",
       "</tr>\n",
       "<tr>\n",
       "  <th>personal</th>                        <td>    0.5431</td> <td>    0.010</td> <td>   53.696</td> <td> 0.000</td> <td>    0.523</td> <td>    0.563</td>\n",
       "</tr>\n",
       "<tr>\n",
       "  <th>work</th>                            <td>    0.5416</td> <td>    0.010</td> <td>   52.289</td> <td> 0.000</td> <td>    0.521</td> <td>    0.562</td>\n",
       "</tr>\n",
       "<tr>\n",
       "  <th>junk</th>                            <td>    0.5388</td> <td>    0.011</td> <td>   51.157</td> <td> 0.000</td> <td>    0.518</td> <td>    0.559</td>\n",
       "</tr>\n",
       "<tr>\n",
       "  <th>has_viewed_photos</th>               <td>    0.0201</td> <td>    0.007</td> <td>    2.954</td> <td> 0.003</td> <td>    0.007</td> <td>    0.033</td>\n",
       "</tr>\n",
       "<tr>\n",
       "  <th>log_UNIQUE_MEALS_PURCH</th>          <td>   -0.6220</td> <td>    0.026</td> <td>  -23.992</td> <td> 0.000</td> <td>   -0.673</td> <td>   -0.571</td>\n",
       "</tr>\n",
       "<tr>\n",
       "  <th>log_CONTACTS_W_CUSTOMER_SERVICE</th> <td>    0.1728</td> <td>    0.019</td> <td>    9.069</td> <td> 0.000</td> <td>    0.135</td> <td>    0.210</td>\n",
       "</tr>\n",
       "<tr>\n",
       "  <th>log_PRODUCT_CATEGORIES_VIEWED</th>   <td>   -0.0870</td> <td>    0.026</td> <td>   -3.335</td> <td> 0.001</td> <td>   -0.138</td> <td>   -0.036</td>\n",
       "</tr>\n",
       "<tr>\n",
       "  <th>log_MEDIAN_MEAL_RATING</th>          <td>   -0.4150</td> <td>    0.076</td> <td>   -5.436</td> <td> 0.000</td> <td>   -0.565</td> <td>   -0.265</td>\n",
       "</tr>\n",
       "<tr>\n",
       "  <th>log_AVG_NUM_MEALS_ORD</th>           <td>    0.2117</td> <td>    0.054</td> <td>    3.906</td> <td> 0.000</td> <td>    0.105</td> <td>    0.318</td>\n",
       "</tr>\n",
       "<tr>\n",
       "  <th>has_WEEKLY_PLAN</th>                 <td>   -0.0117</td> <td>    0.005</td> <td>   -2.165</td> <td> 0.031</td> <td>   -0.022</td> <td>   -0.001</td>\n",
       "</tr>\n",
       "<tr>\n",
       "  <th>has_MASTER_CLASSES_ATTENDED</th>     <td>    0.0360</td> <td>    0.005</td> <td>    6.637</td> <td> 0.000</td> <td>    0.025</td> <td>    0.047</td>\n",
       "</tr>\n",
       "<tr>\n",
       "  <th>log_TOTAL_MEALS_ORDERED</th>         <td>    0.4194</td> <td>    0.021</td> <td>   20.072</td> <td> 0.000</td> <td>    0.378</td> <td>    0.460</td>\n",
       "</tr>\n",
       "</table>\n",
       "<table class=\"simpletable\">\n",
       "<tr>\n",
       "  <th>Omnibus:</th>       <td>475.753</td> <th>  Durbin-Watson:     </th> <td>   2.025</td>\n",
       "</tr>\n",
       "<tr>\n",
       "  <th>Prob(Omnibus):</th> <td> 0.000</td>  <th>  Jarque-Bera (JB):  </th> <td>3574.305</td>\n",
       "</tr>\n",
       "<tr>\n",
       "  <th>Skew:</th>          <td>-0.941</td>  <th>  Prob(JB):          </th> <td>    0.00</td>\n",
       "</tr>\n",
       "<tr>\n",
       "  <th>Kurtosis:</th>      <td> 9.367</td>  <th>  Cond. No.          </th> <td>1.19e+18</td>\n",
       "</tr>\n",
       "</table><br/><br/>Warnings:<br/>[1] Standard Errors assume that the covariance matrix of the errors is correctly specified.<br/>[2] The smallest eigenvalue is 8.46e-29. This might indicate that there are<br/>strong multicollinearity problems or that the design matrix is singular."
      ],
      "text/plain": [
       "<class 'statsmodels.iolib.summary.Summary'>\n",
       "\"\"\"\n",
       "                            OLS Regression Results                            \n",
       "==============================================================================\n",
       "Dep. Variable:            log_REVENUE   R-squared:                       0.774\n",
       "Model:                            OLS   Adj. R-squared:                  0.772\n",
       "Method:                 Least Squares   F-statistic:                     347.3\n",
       "Date:                Thu, 28 Jan 2021   Prob (F-statistic):               0.00\n",
       "Time:                        20:55:52   Log-Likelihood:                 1707.0\n",
       "No. Observations:                1946   AIC:                            -3374.\n",
       "Df Residuals:                    1926   BIC:                            -3263.\n",
       "Df Model:                          19                                         \n",
       "Covariance Type:            nonrobust                                         \n",
       "===================================================================================================\n",
       "                                      coef    std err          t      P>|t|      [0.025      0.975]\n",
       "---------------------------------------------------------------------------------------------------\n",
       "Intercept                           1.6235      0.029     55.722      0.000       1.566       1.681\n",
       "CROSS_SELL_SUCCESS                 -0.0143      0.005     -2.768      0.006      -0.024      -0.004\n",
       "TOTAL_MEALS_ORDERED                -0.0009      0.000     -8.446      0.000      -0.001      -0.001\n",
       "UNIQUE_MEALS_PURCH                  0.0534      0.003     18.786      0.000       0.048       0.059\n",
       "PRODUCT_CATEGORIES_VIEWED           0.0093      0.003      3.542      0.000       0.004       0.014\n",
       "AVG_PREP_VID_TIME                   0.0015   9.32e-05     16.388      0.000       0.001       0.002\n",
       "AVG_NUM_MEALS_ORD                  -0.0358      0.006     -5.876      0.000      -0.048      -0.024\n",
       "MEDIAN_MEAL_RATING                  0.1360      0.014      9.411      0.000       0.108       0.164\n",
       "TOTAL_PHOTOS_VIEWED              5.836e-05   1.92e-05      3.041      0.002    2.07e-05     9.6e-05\n",
       "personal                            0.5431      0.010     53.696      0.000       0.523       0.563\n",
       "work                                0.5416      0.010     52.289      0.000       0.521       0.562\n",
       "junk                                0.5388      0.011     51.157      0.000       0.518       0.559\n",
       "has_viewed_photos                   0.0201      0.007      2.954      0.003       0.007       0.033\n",
       "log_UNIQUE_MEALS_PURCH             -0.6220      0.026    -23.992      0.000      -0.673      -0.571\n",
       "log_CONTACTS_W_CUSTOMER_SERVICE     0.1728      0.019      9.069      0.000       0.135       0.210\n",
       "log_PRODUCT_CATEGORIES_VIEWED      -0.0870      0.026     -3.335      0.001      -0.138      -0.036\n",
       "log_MEDIAN_MEAL_RATING             -0.4150      0.076     -5.436      0.000      -0.565      -0.265\n",
       "log_AVG_NUM_MEALS_ORD               0.2117      0.054      3.906      0.000       0.105       0.318\n",
       "has_WEEKLY_PLAN                    -0.0117      0.005     -2.165      0.031      -0.022      -0.001\n",
       "has_MASTER_CLASSES_ATTENDED         0.0360      0.005      6.637      0.000       0.025       0.047\n",
       "log_TOTAL_MEALS_ORDERED             0.4194      0.021     20.072      0.000       0.378       0.460\n",
       "==============================================================================\n",
       "Omnibus:                      475.753   Durbin-Watson:                   2.025\n",
       "Prob(Omnibus):                  0.000   Jarque-Bera (JB):             3574.305\n",
       "Skew:                          -0.941   Prob(JB):                         0.00\n",
       "Kurtosis:                       9.367   Cond. No.                     1.19e+18\n",
       "==============================================================================\n",
       "\n",
       "Warnings:\n",
       "[1] Standard Errors assume that the covariance matrix of the errors is correctly specified.\n",
       "[2] The smallest eigenvalue is 8.46e-29. This might indicate that there are\n",
       "strong multicollinearity problems or that the design matrix is singular.\n",
       "\"\"\""
      ]
     },
     "execution_count": 24,
     "metadata": {},
     "output_type": "execute_result"
    }
   ],
   "source": [
    "#building a full model using OLS Regression\n",
    "lm_full = smf.ols(formula = \"\"\"log_REVENUE ~\n",
    "CROSS_SELL_SUCCESS +\n",
    "TOTAL_MEALS_ORDERED +\n",
    "UNIQUE_MEALS_PURCH +\n",
    "PRODUCT_CATEGORIES_VIEWED +\n",
    "AVG_PREP_VID_TIME +\n",
    "AVG_NUM_MEALS_ORD +\n",
    "MEDIAN_MEAL_RATING +\n",
    "TOTAL_PHOTOS_VIEWED +\n",
    "personal +\n",
    "work +\n",
    "junk+\n",
    "has_viewed_photos +\n",
    "log_UNIQUE_MEALS_PURCH +\n",
    "log_CONTACTS_W_CUSTOMER_SERVICE +\n",
    "log_PRODUCT_CATEGORIES_VIEWED +\n",
    "log_MEDIAN_MEAL_RATING +\n",
    "log_AVG_NUM_MEALS_ORD +\n",
    "has_WEEKLY_PLAN +\n",
    "has_MASTER_CLASSES_ATTENDED +\n",
    "log_TOTAL_MEALS_ORDERED \"\"\",\n",
    "                               data = chefset_reg)\n",
    "\n",
    "\n",
    "# telling Python to run the data through the blueprint\n",
    "results_full = lm_full.fit()\n",
    "\n",
    "\n",
    "# printing the results\n",
    "results_full.summary() \n"
   ]
  },
  {
   "cell_type": "code",
   "execution_count": 25,
   "metadata": {
    "code_folding": [
     0
    ]
   },
   "outputs": [
    {
     "name": "stdout",
     "output_type": "stream",
     "text": [
      "CROSS_SELL_SUCCESS +\n",
      "TOTAL_MEALS_ORDERED +\n",
      "UNIQUE_MEALS_PURCH +\n",
      "PRODUCT_CATEGORIES_VIEWED +\n",
      "AVG_PREP_VID_TIME +\n",
      "AVG_NUM_MEALS_ORD +\n",
      "MEDIAN_MEAL_RATING +\n",
      "TOTAL_PHOTOS_VIEWED +\n",
      "personal +\n",
      "work +\n",
      "has_viewed_photos +\n",
      "log_UNIQUE_MEALS_PURCH +\n",
      "log_CONTACTS_W_CUSTOMER_SERVICE +\n",
      "log_PRODUCT_CATEGORIES_VIEWED +\n",
      "log_MEDIAN_MEAL_RATING +\n",
      "log_AVG_NUM_MEALS_ORD +\n",
      "has_WEEKLY_PLAN +\n",
      "has_MASTER_CLASSES_ATTENDED +\n",
      "log_TOTAL_MEALS_ORDERED +\n"
     ]
    }
   ],
   "source": [
    "# declaring set of x-variables\n",
    "x_variables = ['CROSS_SELL_SUCCESS','TOTAL_MEALS_ORDERED','UNIQUE_MEALS_PURCH',\n",
    "            'PRODUCT_CATEGORIES_VIEWED','AVG_PREP_VID_TIME','AVG_NUM_MEALS_ORD',\n",
    "            'MEDIAN_MEAL_RATING', 'TOTAL_PHOTOS_VIEWED','personal', 'work',\n",
    "            'has_viewed_photos', 'log_UNIQUE_MEALS_PURCH','log_CONTACTS_W_CUSTOMER_SERVICE',\n",
    "            'log_PRODUCT_CATEGORIES_VIEWED','log_MEDIAN_MEAL_RATING','log_AVG_NUM_MEALS_ORD',\n",
    "            'has_WEEKLY_PLAN','has_MASTER_CLASSES_ATTENDED','log_TOTAL_MEALS_ORDERED']\n",
    "\n",
    "# looping to make x-variables suitable for statsmodels\n",
    "for val in x_variables:\n",
    "    print(f\"{val} +\")"
   ]
  },
  {
   "cell_type": "code",
   "execution_count": 26,
   "metadata": {
    "code_folding": [
     0
    ]
   },
   "outputs": [],
   "source": [
    "#build a train test split for each dataset\n",
    "# applying modelin scikit-learn\n",
    "\n",
    "# preparing x-variables from the OLS model\n",
    "ols_data = chefset_reg.loc[:,x_variables]\n",
    "\n",
    "\n",
    "# preparing response variable log_chef_target\n",
    "log_chef_target = chefset_reg.loc[:,'log_REVENUE']\n",
    "\n",
    "\n",
    "\n",
    "\n",
    "###############################################\n",
    "## setting up more than one train-test split ##\n",
    "###############################################\n",
    "# FULL X-dataset (normal Y)\n",
    "x_train_FULL, x_test_FULL, y_train_FULL, y_test_FULL = train_test_split(\n",
    "            chefset_reg_data,     # x-variables\n",
    "            log_chef_target,   # y-variable\n",
    "            test_size = 0.25,\n",
    "            random_state = 219)\n",
    "\n",
    "#Looking at a smaller variable set\n",
    "# OLS p-value x-dataset (normal Y)\n",
    "x_train_OLS, x_test_OLS, y_train_OLS, y_test_OLS = train_test_split(\n",
    "            ols_data,         # x-variables\n",
    "            log_chef_target,   # y-variable\n",
    "            test_size = 0.25,\n",
    "            random_state = 219)"
   ]
  },
  {
   "cell_type": "markdown",
   "metadata": {},
   "source": [
    "# Appendix 2- OLS Model"
   ]
  },
  {
   "cell_type": "code",
   "execution_count": 27,
   "metadata": {
    "code_folding": []
   },
   "outputs": [
    {
     "name": "stdout",
     "output_type": "stream",
     "text": [
      "Full OLS Training Score : 0.777\n",
      "Full OLS Testing Score  : 0.7689\n",
      "Full OLS Train-Test Gap : 0.0\n"
     ]
    }
   ],
   "source": [
    "#Creating an OLS Model for the Full Dataset\n",
    "# INSTANTIATING a model object\n",
    "#calling linear regression\n",
    "lr = LinearRegression()\n",
    "\n",
    "\n",
    "# FITTING to the training data to that model object\n",
    "lr_fit = lr.fit(x_train_FULL, y_train_FULL)\n",
    "\n",
    "\n",
    "# PREDICTING on new data\n",
    "lr_pred = lr_fit.predict(x_test_FULL)\n",
    "\n",
    "\n",
    "# SCORING the results\n",
    "print('Full OLS Training Score :', lr.score(x_train_FULL, y_train_FULL).round(4))  # using R-square\n",
    "print('Full OLS Testing Score  :',  lr.score(x_test_FULL, y_test_FULL).round(4)) # using R-square\n",
    "\n",
    "lr_train_score= lr.score(x_train_FULL, y_train_FULL).round(4)\n",
    "lr_test_score=lr.score(x_train_FULL, y_train_FULL).round(4)\n",
    "\n",
    "# displaying and saving the gap between training and testing\n",
    "print('Full OLS Train-Test Gap :', abs(lr_train_score - lr_test_score).round(4))\n",
    "lr_test_gap = abs(lr_train_score - lr_test_score).round(4)\n",
    "\n"
   ]
  },
  {
   "cell_type": "code",
   "execution_count": 28,
   "metadata": {
    "code_folding": [
     0
    ]
   },
   "outputs": [],
   "source": [
    "#Naming all the variables in thsi dataset\n",
    "all_variables= ['CROSS_SELL_SUCCESS','TOTAL_MEALS_ORDERED','UNIQUE_MEALS_PURCH','CONTACTS_W_CUSTOMER_SERVICE',\n",
    "            'PRODUCT_CATEGORIES_VIEWED','AVG_TIME_PER_SITE_VISIT','MOBILE_NUMBER','AVG_PREP_VID_TIME',\n",
    "            'AVG_NUM_MEALS_ORD','CANCELLATIONS_BEFORE_NOON','CANCELLATIONS_AFTER_NOON',\n",
    "            'MEDIAN_MEAL_RATING', 'TOTAL_PHOTOS_VIEWED','personal', 'work','TASTES_AND_PREFERENCES',\n",
    "              'PC_LOGINS','MOBILE_LOGINS','WEEKLY_PLAN','EARLY_DELIVERIES','LATE_DELIVERIES','PACKAGE_LOCKER',\n",
    "             'REFRIGERATED_LOCKER', 'MASTER_CLASSES_ATTENDED','AVG_CLICKS_PER_VISIT','TOTAL_PHOTOS_VIEWED', \n",
    "                'junk','NUM_OF_NAMES', 'has_MOBILE_LOGINS','has_EARLY_DELIVERIES','has_LATE_DELIVERIES',\n",
    "                'has_CANCELLATIONS_AFTER_NOON','log_UNIQUE_MEALS_PURCH','has_viewed_photos', \n",
    "                'log_UNIQUE_MEALS_PURCH','log_CONTACTS_W_CUSTOMER_SERVICE','log_PC_LOGINS',\n",
    "             'log_AVG_CLICKS_PER_VISIT',   'log_PRODUCT_CATEGORIES_VIEWED','log_MEDIAN_MEAL_RATING',\n",
    "            'log_AVG_NUM_MEALS_ORD','has_WEEKLY_PLAN','has_MASTER_CLASSES_ATTENDED','log_TOTAL_MEALS_ORDERED']\n",
    "\n",
    "\n",
    "\n"
   ]
  },
  {
   "cell_type": "code",
   "execution_count": 29,
   "metadata": {
    "code_folding": [
     0
    ]
   },
   "outputs": [
    {
     "name": "stdout",
     "output_type": "stream",
     "text": [
      "('intercept', 2.46)\n",
      "('CROSS_SELL_SUCCESS', -0.02)\n",
      "('TOTAL_MEALS_ORDERED', -0.0)\n",
      "('UNIQUE_MEALS_PURCH', 0.05)\n",
      "('PRODUCT_CATEGORIES_VIEWED', -0.0)\n",
      "('AVG_PREP_VID_TIME', 0.01)\n",
      "('AVG_NUM_MEALS_ORD', 0.0)\n",
      "('MEDIAN_MEAL_RATING', 0.0)\n",
      "('TOTAL_PHOTOS_VIEWED', 0.0)\n",
      "('personal', 0.02)\n",
      "('work', 0.01)\n",
      "('has_viewed_photos', 0.02)\n",
      "('log_UNIQUE_MEALS_PURCH', -0.01)\n",
      "('log_CONTACTS_W_CUSTOMER_SERVICE', 0.0)\n",
      "('log_PRODUCT_CATEGORIES_VIEWED', -0.0)\n",
      "('log_MEDIAN_MEAL_RATING', -0.0)\n",
      "('log_AVG_NUM_MEALS_ORD', -0.01)\n",
      "('has_WEEKLY_PLAN', -0.01)\n",
      "('has_MASTER_CLASSES_ATTENDED', 0.0)\n",
      "('log_TOTAL_MEALS_ORDERED', -0.03)\n"
     ]
    }
   ],
   "source": [
    "# zipping each feature name to its coefficient\n",
    "lr_model_values = zip(chefset_reg_data[x_variables].columns,\n",
    "                      lr_fit.coef_.round(decimals = 2))\n",
    "\n",
    "\n",
    "# setting up a placeholder list to store model features\n",
    "lr_model_lst = [('intercept', lr_fit.intercept_.round(decimals = 2))]\n",
    "\n",
    "\n",
    "# printing out each feature-coefficient pair one by one\n",
    "for val in lr_model_values:\n",
    "    lr_model_lst.append(val)\n",
    "    \n",
    "\n",
    "# checking the results\n",
    "for pair in lr_model_lst:\n",
    "    print(pair)"
   ]
  },
  {
   "cell_type": "markdown",
   "metadata": {},
   "source": [
    "# Classification Analysis"
   ]
  },
  {
   "cell_type": "markdown",
   "metadata": {},
   "source": [
    "In classification,  I did not use as many engineered variables as I did in regression analysis."
   ]
  },
  {
   "cell_type": "code",
   "execution_count": 30,
   "metadata": {
    "code_folding": [
     0
    ]
   },
   "outputs": [
    {
     "name": "stdout",
     "output_type": "stream",
     "text": [
      "CROSS_SELL_SUCCESS             1.00\n",
      "work                           0.19\n",
      "NUM_OF_NAMES                   0.16\n",
      "CANCELLATIONS_BEFORE_NOON      0.16\n",
      "MOBILE_NUMBER                  0.10\n",
      "TASTES_AND_PREFERENCES         0.08\n",
      "REFRIGERATED_LOCKER            0.07\n",
      "CONTACTS_W_CUSTOMER_SERVICE    0.04\n",
      "PC_LOGINS                      0.04\n",
      "PACKAGE_LOCKER                 0.04\n",
      "MASTER_CLASSES_ATTENDED        0.04\n",
      "personal                       0.04\n",
      "AVG_PREP_VID_TIME              0.03\n",
      "MEDIAN_MEAL_RATING             0.03\n",
      "EARLY_DELIVERIES               0.02\n",
      "AVG_NUM_MEALS_ORD              0.02\n",
      "LATE_DELIVERIES                0.01\n",
      "TOTAL_MEALS_ORDERED            0.01\n",
      "TOTAL_PHOTOS_VIEWED            0.01\n",
      "AVG_TIME_PER_SITE_VISIT        0.01\n",
      "PRODUCT_CATEGORIES_VIEWED      0.00\n",
      "UNIQUE_MEALS_PURCH             0.00\n",
      "REVENUE                        0.00\n",
      "WEEKLY_PLAN                   -0.01\n",
      "AVG_CLICKS_PER_VISIT          -0.04\n",
      "CANCELLATIONS_AFTER_NOON      -0.05\n",
      "MOBILE_LOGINS                 -0.05\n",
      "junk                          -0.28\n",
      "Name: CROSS_SELL_SUCCESS, dtype: float64\n"
     ]
    }
   ],
   "source": [
    "#Biserial Point Correlations\n",
    "# creating a (Pearson) correlation matrix\n",
    "df_corr = chefset.corr(method='pearson').round(2)\n",
    "\n",
    "# printing (Pearson) correlations with CSS\n",
    "print(df_corr.loc['CROSS_SELL_SUCCESS'].sort_values(ascending = False))"
   ]
  },
  {
   "cell_type": "code",
   "execution_count": 31,
   "metadata": {
    "code_folding": [
     0
    ]
   },
   "outputs": [
    {
     "name": "stdout",
     "output_type": "stream",
     "text": [
      "REVENUE +\n",
      "TOTAL_MEALS_ORDERED +\n",
      "UNIQUE_MEALS_PURCH +\n",
      "CONTACTS_W_CUSTOMER_SERVICE +\n",
      "PRODUCT_CATEGORIES_VIEWED +\n",
      "AVG_TIME_PER_SITE_VISIT +\n",
      "MOBILE_NUMBER +\n",
      "CANCELLATIONS_BEFORE_NOON +\n",
      "CANCELLATIONS_AFTER_NOON +\n",
      "TASTES_AND_PREFERENCES +\n",
      "PC_LOGINS +\n",
      "MOBILE_LOGINS +\n",
      "WEEKLY_PLAN +\n",
      "EARLY_DELIVERIES +\n",
      "LATE_DELIVERIES +\n",
      "PACKAGE_LOCKER +\n",
      "REFRIGERATED_LOCKER +\n",
      "AVG_PREP_VID_TIME +\n",
      "AVG_NUM_MEALS_ORD +\n",
      "MASTER_CLASSES_ATTENDED +\n",
      "MEDIAN_MEAL_RATING +\n",
      "AVG_CLICKS_PER_VISIT +\n",
      "TOTAL_PHOTOS_VIEWED +\n",
      "junk +\n",
      "personal +\n",
      "work +\n",
      "NUM_OF_NAMES +\n"
     ]
    }
   ],
   "source": [
    "#Building Full Model to Compare  Explanatory Variables \n",
    "\n",
    "############################################\n",
    "\n",
    "# making a copy of chef\n",
    "chefset_class_data = chefset.copy()\n",
    "\n",
    "\n",
    "# dropping from the explanatory variable set\n",
    "chefset_class_data = chefset_class_data.drop(['CROSS_SELL_SUCCESS',\n",
    "                                          #following columns removed due to no use or\n",
    "                                          #redundancy (ie: email categories and all email names)\n",
    "                                          'NAME','EMAIL','FIRST_NAME','FAMILY_NAME','CLEAN_EMAILS'\n",
    "                                          \n",
    "                                         ], axis = 1)\n",
    "# declaring response variable\n",
    "chefset_target = chefset.loc[ : , 'CROSS_SELL_SUCCESS']\n",
    "\n",
    "# formatting each explanatory variable for statsmodels\n",
    "for val in chefset_class_data:\n",
    "    print(val,'+')\n"
   ]
  },
  {
   "cell_type": "code",
   "execution_count": 32,
   "metadata": {
    "code_folding": [
     0
    ]
   },
   "outputs": [],
   "source": [
    "# train-test split with stratification\n",
    "x_train, x_test, y_train, y_test = train_test_split(\n",
    "            chefset_class_data,\n",
    "            chefset_target,\n",
    "            test_size    = 0.25,\n",
    "            random_state = 219,\n",
    "            stratify     = chefset_target)\n",
    "\n",
    "\n",
    "# merging training data for statsmodels\n",
    "chefset_train = pd.concat([x_train, y_train], axis = 1)"
   ]
  },
  {
   "cell_type": "code",
   "execution_count": 33,
   "metadata": {
    "code_folding": [
     0
    ]
   },
   "outputs": [
    {
     "name": "stdout",
     "output_type": "stream",
     "text": [
      "\n",
      "\n",
      "Response Variable Proportions (Training Set)\n",
      "--------------------------------------------\n",
      "1    0.68\n",
      "0    0.32\n",
      "Name: CROSS_SELL_SUCCESS, dtype: float64\n",
      "\n",
      "\n",
      "\n",
      "Response Variable Proportions (Testing Set)\n",
      "--------------------------------------------\n",
      "1    0.68\n",
      "0    0.32\n",
      "Name: CROSS_SELL_SUCCESS, dtype: float64\n",
      "\n"
     ]
    }
   ],
   "source": [
    "#response var proportions\n",
    "print(f\"\"\"\n",
    "\n",
    "Response Variable Proportions (Training Set)\n",
    "--------------------------------------------\n",
    "{y_train.value_counts(normalize = True).round(decimals = 2)}\n",
    "\n",
    "\n",
    "\n",
    "Response Variable Proportions (Testing Set)\n",
    "--------------------------------------------\n",
    "{y_test.value_counts(normalize = True).round(decimals = 2)}\n",
    "\"\"\")\n",
    "\n"
   ]
  },
  {
   "cell_type": "code",
   "execution_count": 34,
   "metadata": {
    "code_folding": [
     0
    ]
   },
   "outputs": [],
   "source": [
    "#creating Dictionary sets \n",
    "chef_dict={\n",
    "    # full model\n",
    " 'logit_full'   : ['REVENUE','TOTAL_MEALS_ORDERED','UNIQUE_MEALS_PURCH',\n",
    "                   'CONTACTS_W_CUSTOMER_SERVICE','PRODUCT_CATEGORIES_VIEWED',\n",
    "                   'AVG_TIME_PER_SITE_VISIT','MOBILE_NUMBER','CANCELLATIONS_BEFORE_NOON',\n",
    "                   'CANCELLATIONS_AFTER_NOON','TASTES_AND_PREFERENCES','PC_LOGINS',\n",
    "                   'MOBILE_LOGINS','WEEKLY_PLAN','EARLY_DELIVERIES','LATE_DELIVERIES',\n",
    "                   'PACKAGE_LOCKER','REFRIGERATED_LOCKER','AVG_PREP_VID_TIME',\n",
    "                   'AVG_NUM_MEALS_ORD','MASTER_CLASSES_ATTENDED','MEDIAN_MEAL_RATING',\n",
    "                   'AVG_CLICKS_PER_VISIT','TOTAL_PHOTOS_VIEWED','junk','personal',\n",
    "                   'work','NUM_OF_NAMES'],\n",
    "\n",
    "\n",
    " # significant variables only (set 1)\n",
    " 'logit_sig'    : ['MOBILE_NUMBER','CANCELLATIONS_BEFORE_NOON',\n",
    "'TASTES_AND_PREFERENCES','NUM_OF_NAMES','PC_LOGINS','EARLY_DELIVERIES','personal','junk','REFRIGERATED_LOCKER',\n",
    "                  'MASTER_CLASSES_ATTENDED'],\n",
    "\n",
    "\n",
    " # significant variables only (set 2)\n",
    " 'logit_sig_2'  : ['MOBILE_NUMBER', 'CANCELLATIONS_BEFORE_NOON', \n",
    "                  'TASTES_AND_PREFERENCES', 'PC_LOGINS', 'EARLY_DELIVERIES',\n",
    "                  'REFRIGERATED_LOCKER', 'junk', 'work', \n",
    "                  'NUM_OF_NAMES'],\n",
    "    \n",
    "}"
   ]
  },
  {
   "cell_type": "code",
   "execution_count": 35,
   "metadata": {},
   "outputs": [
    {
     "name": "stdout",
     "output_type": "stream",
     "text": [
      "Optimization terminated successfully.\n",
      "         Current function value: 0.541596\n",
      "         Iterations 6\n"
     ]
    },
    {
     "data": {
      "text/html": [
       "<table class=\"simpletable\">\n",
       "<caption>Logit Regression Results</caption>\n",
       "<tr>\n",
       "  <th>Dep. Variable:</th>   <td>CROSS_SELL_SUCCESS</td> <th>  No. Observations:  </th>  <td>  1459</td>  \n",
       "</tr>\n",
       "<tr>\n",
       "  <th>Model:</th>                  <td>Logit</td>       <th>  Df Residuals:      </th>  <td>  1448</td>  \n",
       "</tr>\n",
       "<tr>\n",
       "  <th>Method:</th>                  <td>MLE</td>        <th>  Df Model:          </th>  <td>    10</td>  \n",
       "</tr>\n",
       "<tr>\n",
       "  <th>Date:</th>             <td>Thu, 28 Jan 2021</td>  <th>  Pseudo R-squ.:     </th>  <td>0.1375</td>  \n",
       "</tr>\n",
       "<tr>\n",
       "  <th>Time:</th>                 <td>20:55:52</td>      <th>  Log-Likelihood:    </th> <td> -790.19</td> \n",
       "</tr>\n",
       "<tr>\n",
       "  <th>converged:</th>              <td>True</td>        <th>  LL-Null:           </th> <td> -916.19</td> \n",
       "</tr>\n",
       "<tr>\n",
       "  <th>Covariance Type:</th>      <td>nonrobust</td>     <th>  LLR p-value:       </th> <td>2.050e-48</td>\n",
       "</tr>\n",
       "</table>\n",
       "<table class=\"simpletable\">\n",
       "<tr>\n",
       "              <td></td>                 <th>coef</th>     <th>std err</th>      <th>z</th>      <th>P>|z|</th>  <th>[0.025</th>    <th>0.975]</th>  \n",
       "</tr>\n",
       "<tr>\n",
       "  <th>Intercept</th>                 <td>   -3.0339</td> <td>    0.658</td> <td>   -4.608</td> <td> 0.000</td> <td>   -4.324</td> <td>   -1.744</td>\n",
       "</tr>\n",
       "<tr>\n",
       "  <th>MOBILE_NUMBER</th>             <td>    0.8741</td> <td>    0.176</td> <td>    4.955</td> <td> 0.000</td> <td>    0.528</td> <td>    1.220</td>\n",
       "</tr>\n",
       "<tr>\n",
       "  <th>CANCELLATIONS_BEFORE_NOON</th> <td>    0.2762</td> <td>    0.046</td> <td>    5.949</td> <td> 0.000</td> <td>    0.185</td> <td>    0.367</td>\n",
       "</tr>\n",
       "<tr>\n",
       "  <th>TASTES_AND_PREFERENCES</th>    <td>    0.3895</td> <td>    0.135</td> <td>    2.877</td> <td> 0.004</td> <td>    0.124</td> <td>    0.655</td>\n",
       "</tr>\n",
       "<tr>\n",
       "  <th>NUM_OF_NAMES</th>              <td>    0.5491</td> <td>    0.094</td> <td>    5.864</td> <td> 0.000</td> <td>    0.366</td> <td>    0.733</td>\n",
       "</tr>\n",
       "<tr>\n",
       "  <th>PC_LOGINS</th>                 <td>    0.2265</td> <td>    0.107</td> <td>    2.117</td> <td> 0.034</td> <td>    0.017</td> <td>    0.436</td>\n",
       "</tr>\n",
       "<tr>\n",
       "  <th>EARLY_DELIVERIES</th>          <td>    0.0610</td> <td>    0.028</td> <td>    2.205</td> <td> 0.027</td> <td>    0.007</td> <td>    0.115</td>\n",
       "</tr>\n",
       "<tr>\n",
       "  <th>REFRIGERATED_LOCKER</th>       <td>    0.5314</td> <td>    0.209</td> <td>    2.542</td> <td> 0.011</td> <td>    0.122</td> <td>    0.941</td>\n",
       "</tr>\n",
       "<tr>\n",
       "  <th>work</th>                      <td>    0.6010</td> <td>    0.144</td> <td>    4.167</td> <td> 0.000</td> <td>    0.318</td> <td>    0.884</td>\n",
       "</tr>\n",
       "<tr>\n",
       "  <th>junk</th>                      <td>   -1.3114</td> <td>    0.157</td> <td>   -8.344</td> <td> 0.000</td> <td>   -1.619</td> <td>   -1.003</td>\n",
       "</tr>\n",
       "<tr>\n",
       "  <th>MASTER_CLASSES_ATTENDED</th>   <td>    0.2217</td> <td>    0.097</td> <td>    2.278</td> <td> 0.023</td> <td>    0.031</td> <td>    0.412</td>\n",
       "</tr>\n",
       "</table>"
      ],
      "text/plain": [
       "<class 'statsmodels.iolib.summary.Summary'>\n",
       "\"\"\"\n",
       "                           Logit Regression Results                           \n",
       "==============================================================================\n",
       "Dep. Variable:     CROSS_SELL_SUCCESS   No. Observations:                 1459\n",
       "Model:                          Logit   Df Residuals:                     1448\n",
       "Method:                           MLE   Df Model:                           10\n",
       "Date:                Thu, 28 Jan 2021   Pseudo R-squ.:                  0.1375\n",
       "Time:                        20:55:52   Log-Likelihood:                -790.19\n",
       "converged:                       True   LL-Null:                       -916.19\n",
       "Covariance Type:            nonrobust   LLR p-value:                 2.050e-48\n",
       "=============================================================================================\n",
       "                                coef    std err          z      P>|z|      [0.025      0.975]\n",
       "---------------------------------------------------------------------------------------------\n",
       "Intercept                    -3.0339      0.658     -4.608      0.000      -4.324      -1.744\n",
       "MOBILE_NUMBER                 0.8741      0.176      4.955      0.000       0.528       1.220\n",
       "CANCELLATIONS_BEFORE_NOON     0.2762      0.046      5.949      0.000       0.185       0.367\n",
       "TASTES_AND_PREFERENCES        0.3895      0.135      2.877      0.004       0.124       0.655\n",
       "NUM_OF_NAMES                  0.5491      0.094      5.864      0.000       0.366       0.733\n",
       "PC_LOGINS                     0.2265      0.107      2.117      0.034       0.017       0.436\n",
       "EARLY_DELIVERIES              0.0610      0.028      2.205      0.027       0.007       0.115\n",
       "REFRIGERATED_LOCKER           0.5314      0.209      2.542      0.011       0.122       0.941\n",
       "work                          0.6010      0.144      4.167      0.000       0.318       0.884\n",
       "junk                         -1.3114      0.157     -8.344      0.000      -1.619      -1.003\n",
       "MASTER_CLASSES_ATTENDED       0.2217      0.097      2.278      0.023       0.031       0.412\n",
       "=============================================================================================\n",
       "\"\"\""
      ]
     },
     "execution_count": 35,
     "metadata": {},
     "output_type": "execute_result"
    }
   ],
   "source": [
    "# instantiating a logistic regression model object\n",
    "logistic = smf.logit(formula = \"\"\" CROSS_SELL_SUCCESS ~ \n",
    "                                         MOBILE_NUMBER + \n",
    "                                         CANCELLATIONS_BEFORE_NOON +  \n",
    "                                         TASTES_AND_PREFERENCES + \n",
    "                                         NUM_OF_NAMES+\n",
    "                                         PC_LOGINS + \n",
    "                                         EARLY_DELIVERIES + \n",
    "                                         REFRIGERATED_LOCKER + \n",
    "                                         work + \n",
    "                                         junk +MASTER_CLASSES_ATTENDED \n",
    "                                          \"\"\",\n",
    "                                        data = chefset_train)\n",
    "\n",
    "\n",
    "# fitting the model object\n",
    "results = logistic.fit()\n",
    "\n",
    "\n",
    "# checking the results SUMMARY\n",
    "results.summary()"
   ]
  },
  {
   "cell_type": "code",
   "execution_count": 36,
   "metadata": {
    "code_folding": [
     0
    ]
   },
   "outputs": [],
   "source": [
    "#calling the explanatory vars for train test split\n",
    "chefset_data_explanatory   =  chefset.loc[ : , chef_dict['logit_sig']]\n",
    "chefset_target_class =  chefset.loc[ : , 'CROSS_SELL_SUCCESS']\n",
    "\n",
    "# train/test split\n",
    "x_train, x_test, y_train, y_test = train_test_split(\n",
    "                                chefset_data_explanatory ,\n",
    "                                chefset_target_class,\n",
    "                                random_state = 219,\n",
    "                                test_size    = 0.25,\n",
    "                                stratify     = chefset_target_class)\n",
    "\n",
    "# merging training data for statsmodels\n",
    "chefset_train = pd.concat([x_train, y_train], axis = 1)"
   ]
  },
  {
   "cell_type": "markdown",
   "metadata": {},
   "source": [
    "# Appendix 3-GBM Tuned Model"
   ]
  },
  {
   "cell_type": "code",
   "execution_count": 37,
   "metadata": {},
   "outputs": [
    {
     "name": "stdout",
     "output_type": "stream",
     "text": [
      "GBM Tuned Training ACCURACY: 0.8053\n",
      "GBM Tuned Testing  ACCURACY: 0.7885\n",
      "GBM Tuned AUC Score        : 0.7343\n"
     ]
    }
   ],
   "source": [
    "# INSTANTIATING the model object without hyperparameters\n",
    "gbm_tuned = GradientBoostingClassifier(loss          = 'exponential',\n",
    "                                              learning_rate = 0.3,\n",
    "                                              n_estimators  = 125,\n",
    "                                              subsample= .6,\n",
    "                                              criterion     = 'friedman_mse',\n",
    "                                              min_impurity_decrease=0.1,\n",
    "                                              max_depth     = 3,\n",
    "                                              warm_start    = False,\n",
    "                                              random_state  = 219,\n",
    "                                              min_samples_leaf=2,\n",
    "                                              min_samples_split=8)\n",
    "\n",
    "#using FIT\n",
    "# FIT step is needed as we are not using .best_estimator\n",
    "gbm_tuned_fit = gbm_tuned.fit(x_train, y_train)\n",
    "\n",
    "\n",
    "# PREDICTING based on the testing set\n",
    "gbm_tuned_pred = gbm_tuned_fit.predict(x_test)\n",
    "\n",
    "\n",
    "# SCORING the results\n",
    "print('GBM Tuned Training ACCURACY:', gbm_tuned_fit.score(x_train, y_train).round(4))\n",
    "print('GBM Tuned Testing  ACCURACY:', gbm_tuned_fit.score(x_test, y_test).round(4))\n",
    "print('GBM Tuned AUC Score        :', roc_auc_score(y_true  = y_test,\n",
    "                                         y_score = gbm_tuned_pred).round(4))\n",
    "\n",
    "# saving scoring data for future use\n",
    "gbm_tuned_train_score = gbm_tuned.score(x_train, y_train).round(4) # accuracy\n",
    "gbm_tuned_test_score  = gbm_tuned.score(x_test, y_test).round(4)   # accuracy\n",
    "\n",
    "\n",
    "# saving the AUC score,gbm_tuned_auc\n",
    "gbm_tuned_auc = roc_auc_score(y_true  = y_test,\n",
    "                                 y_score = gbm_tuned_pred).round(4) # auc"
   ]
  },
  {
   "cell_type": "markdown",
   "metadata": {},
   "source": [
    "# Appendix 4"
   ]
  },
  {
   "cell_type": "code",
   "execution_count": 38,
   "metadata": {
    "code_folding": [
     0
    ]
   },
   "outputs": [
    {
     "name": "stderr",
     "output_type": "stream",
     "text": [
      "<ipython-input-6-47df5c06e99f>:21: FutureWarning: The pandas.np module is deprecated and will be removed from pandas in a future version. Import numpy directly instead\n",
      "  plt.yticks(pd.np.arange(n_features), train.columns)\n"
     ]
    },
    {
     "data": {
      "image/png": "[encoded data removed]",
      "text/plain": [
       "<Figure size 864x648 with 1 Axes>"
      ]
     },
     "metadata": {
      "needs_background": "light"
     },
     "output_type": "display_data"
    }
   ],
   "source": [
    "# plotting feature importances\n",
    "plot_feature_importances(model=gbm_tuned_fit,\n",
    "                        train=x_train\n",
    "                         \n",
    "                        )"
   ]
  },
  {
   "cell_type": "code",
   "execution_count": 39,
   "metadata": {
    "code_folding": [
     0
    ]
   },
   "outputs": [
    {
     "name": "stdout",
     "output_type": "stream",
     "text": [
      "\n",
      "True Negatives : 91\n",
      "False Positives: 65\n",
      "False Negatives: 38\n",
      "True Positives : 293\n",
      "\n"
     ]
    }
   ],
   "source": [
    "# unpacking the confusion matrix\n",
    "gbm_tuned_tn, \\\n",
    "gbm_tuned_fp, \\\n",
    "gbm_tuned_fn, \\\n",
    "gbm_tuned_tp = confusion_matrix(y_true = y_test, y_pred = gbm_tuned_pred).ravel()\n",
    "\n",
    "\n",
    "# printing each result one-by-one\n",
    "print(f\"\"\"\n",
    "True Negatives : {gbm_tuned_tn}\n",
    "False Positives: {gbm_tuned_fp}\n",
    "False Negatives: {gbm_tuned_fn}\n",
    "True Positives : {gbm_tuned_tp}\n",
    "\"\"\")"
   ]
  },
  {
   "cell_type": "markdown",
   "metadata": {},
   "source": [
    "# Appendix 5"
   ]
  },
  {
   "cell_type": "code",
   "execution_count": 40,
   "metadata": {
    "code_folding": [
     0
    ],
    "scrolled": true
   },
   "outputs": [
    {
     "data": {
      "image/png": "[encoded data removed]",
      "text/plain": [
       "<Figure size 432x288 with 2 Axes>"
      ]
     },
     "metadata": {
      "needs_background": "light"
     },
     "output_type": "display_data"
    }
   ],
   "source": [
    "# calling the visual_cm function\n",
    "visual_cm(true_y = y_test,\n",
    "          pred_y = gbm_tuned_pred,\n",
    "          labels = ['Cross Sell Success', 'Not Cross Sell Success'])"
   ]
  }
 ],
 "metadata": {
  "kernelspec": {
   "display_name": "Python 3",
   "language": "python",
   "name": "python3"
  },
  "language_info": {
   "codemirror_mode": {
    "name": "ipython",
    "version": 3
   },
   "file_extension": ".py",
   "mimetype": "text/x-python",
   "name": "python",
   "nbconvert_exporter": "python",
   "pygments_lexer": "ipython3",
   "version": "3.8.1"
  },
  "toc": {
   "base_numbering": 1,
   "nav_menu": {},
   "number_sections": true,
   "sideBar": true,
   "skip_h1_title": false,
   "title_cell": "Table of Contents",
   "title_sidebar": "Contents",
   "toc_cell": false,
   "toc_position": {},
   "toc_section_display": true,
   "toc_window_display": false
  },
  "varInspector": {
   "cols": {
    "lenName": 16,
    "lenType": 16,
    "lenVar": 40
   },
   "kernels_config": {
    "python": {
     "delete_cmd_postfix": "",
     "delete_cmd_prefix": "del ",
     "library": "var_list.py",
     "varRefreshCmd": "print(var_dic_list())"
    },
    "r": {
     "delete_cmd_postfix": ") ",
     "delete_cmd_prefix": "rm(",
     "library": "var_list.r",
     "varRefreshCmd": "cat(var_dic_list()) "
    }
   },
   "types_to_exclude": [
    "module",
    "function",
    "builtin_function_or_method",
    "instance",
    "_Feature"
   ],
   "window_display": false
  }
 },
 "nbformat": 4,
 "nbformat_minor": 4
}
